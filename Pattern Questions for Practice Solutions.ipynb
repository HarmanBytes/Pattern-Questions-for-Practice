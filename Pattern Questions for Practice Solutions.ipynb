{
 "cells": [
  {
   "cell_type": "markdown",
   "id": "cda611e6",
   "metadata": {},
   "source": [
    "# Why pattern questions are important?\n",
    "\n",
    "Solving pattern questions is important because of the following benefits:\n",
    "\n",
    "1. **Logical Thinking**: Pattern questions promote logical thinking and problem-solving skills.\n",
    "\n",
    "2. **Algorithmic Skills**: They improve algorithmic thinking and the ability to devise efficient solutions.\n",
    "\n",
    "3. **Pattern Recognition**: Solving patterns enhances the skill to recognize patterns in data.\n",
    "\n",
    "4. **Coding Proficiency**: It boosts coding proficiency and familiarity with programming languages.\n",
    "\n",
    "5. **Creativity and Innovation**: Pattern questions foster creativity and encourage innovative problem-solving approaches.\n",
    "\n",
    "6. **Mathematical Understanding**: Some patterns involve mathematical concepts, reinforcing understanding and application.\n",
    "\n",
    "7. **Preparation for Interviews**: Practice prepares individuals for technical interviews and coding competitions.\n",
    "\n",
    "8. **Visualization Skills**: Understanding and creating patterns are valuable in data visualization and other fields.\n",
    "\n",
    "9. **Debugging Skills**: It improves the ability to find and fix errors in code.\n",
    "\n",
    "10. **Building Strong Foundation**: Pattern questions lay a strong foundation for programming skills.\n",
    "\n",
    "11. **Pattern Abstraction**: They help in abstracting patterns from specific instances.\n",
    "\n",
    "12. **Pattern Generation in Real-World**: Pattern skills are useful in various real-world scenarios.\n",
    "\n",
    "In short, solving pattern questions enhances problem-solving abilities, coding skills, and logical thinking, preparing individuals for diverse programming challenges and applications."
   ]
  },
  {
   "cell_type": "markdown",
   "id": "9e3550c6",
   "metadata": {},
   "source": [
    "# Steps or Points that can help to solve any pattern Question\n",
    "\n",
    "- **Number of Rows and Columns:** \n",
    "\n",
    "```\n",
    "Determine the number of rows and columns in the pattern. This information will help you set up the outer and inner loops accordingly.\n",
    "```\n",
    "  \n",
    "- **Outer Loop (Rows) and Inner Loop (Columns):** \n",
    "```\n",
    "Use nested loops to iterate through each row and control the number of elements (columns) to be printed in each row.\n",
    "```\n",
    "\n",
    "- **Focus on Columns and Find Relations:** \n",
    "```\n",
    "While working with the inner loop, focus on the columns of the pattern. Identify any patterns or relationships between the elements in the columns. This could involve arithmetic or geometric progressions, repeated sequences, or other mathematical rules.\n",
    "```\n",
    "\n",
    "- **Identify Elements and Rules:** \n",
    "```\n",
    "Analyze the elements used in each row and how they are generated. Look for any specific rules or formulas that govern the pattern's construction.\n",
    "```\n",
    "\n",
    "- **Print Output:** \n",
    "```\n",
    "Inside the nested loops, print the elements that form the pattern. Ensure that you correctly apply the logic and relationships you identified in the previous step.\n",
    "```\n",
    "\n",
    "- **Identify the Pattern:** \n",
    "```\n",
    "Carefully examine the given pattern to understand its structure and logic. Look for any repetitions, symmetries, or relationships between rows and columns.\n",
    "```\n",
    "\n",
    "- **Observe Similar Patterns:** \n",
    "```\n",
    "Compare the current pattern with any similar patterns you have encountered before. This may give you insights into solving the current pattern more efficiently.\n",
    "```\n",
    "\n",
    "These steps provide a systematic approach to analyze and solve pattern questions effectively."
   ]
  },
  {
   "cell_type": "markdown",
   "id": "083420b4",
   "metadata": {},
   "source": [
    "### **Note:** \n",
    "\n",
    "- Please try to solve these questions without using `string multiplication` and Python string functions like `rjust`, `ljust`, and `center`. Instead of it use loops to enhance your understanding of iteration. \n",
    "- Utilizing loops not only reinforces your understanding of iteration but also enhances your problem-solving skills, algorithmic thinking, and familiarity with control structures. \n",
    "- Moreover, it provides valuable practice in syntax and visualization of patterns, fostering a deeper understanding of programming concepts. "
   ]
  },
  {
   "cell_type": "markdown",
   "id": "dde1fe30",
   "metadata": {},
   "source": [
    "# Patterns:"
   ]
  },
  {
   "cell_type": "markdown",
   "id": "52f7eade",
   "metadata": {},
   "source": [
    "## Pattern 1"
   ]
  },
  {
   "cell_type": "markdown",
   "id": "e7b2aac5",
   "metadata": {},
   "source": [
    "#### User Input = 5"
   ]
  },
  {
   "cell_type": "markdown",
   "id": "f61e6c74",
   "metadata": {},
   "source": [
    "<img align=left src=\"Pattern images/7.jpg\" width=\"200\" height=\"200\">"
   ]
  },
  {
   "cell_type": "code",
   "execution_count": 1,
   "id": "47b2eadf",
   "metadata": {},
   "outputs": [
    {
     "name": "stdout",
     "output_type": "stream",
     "text": [
      "Enter Number: 5\n",
      "*****\n",
      "*****\n",
      "*****\n",
      "*****\n",
      "*****\n"
     ]
    }
   ],
   "source": [
    "n = int(input('Enter Number: '))\n",
    "for row in range(n):\n",
    "    for col in range(n):\n",
    "        print('*', end='')\n",
    "    print()"
   ]
  },
  {
   "cell_type": "markdown",
   "id": "b16b37bc",
   "metadata": {},
   "source": [
    "## Pattern 2"
   ]
  },
  {
   "cell_type": "markdown",
   "id": "3f870f90",
   "metadata": {},
   "source": [
    "#### User Input = 5"
   ]
  },
  {
   "cell_type": "markdown",
   "id": "14228838",
   "metadata": {},
   "source": [
    "<img align=left src=\"Pattern images/2.jpg\" width=\"200\" height=\"200\">"
   ]
  },
  {
   "cell_type": "code",
   "execution_count": 2,
   "id": "ca0e39d2",
   "metadata": {},
   "outputs": [
    {
     "name": "stdout",
     "output_type": "stream",
     "text": [
      "Enter Number: 5\n",
      "*\n",
      "**\n",
      "***\n",
      "****\n",
      "*****\n"
     ]
    }
   ],
   "source": [
    "n = int(input('Enter Number: '))\n",
    "for row in range(n):\n",
    "    for col in range(row+1):\n",
    "        print('*', end='')\n",
    "    print()"
   ]
  },
  {
   "cell_type": "markdown",
   "id": "e9a2b03b",
   "metadata": {},
   "source": [
    "## Pattern 3"
   ]
  },
  {
   "cell_type": "markdown",
   "id": "63e2af58",
   "metadata": {},
   "source": [
    "#### User Input = 5"
   ]
  },
  {
   "cell_type": "markdown",
   "id": "41362bb8",
   "metadata": {},
   "source": [
    "<img align=left src=\"Pattern images/4.jpg\" width=\"200\" height=\"200\">"
   ]
  },
  {
   "cell_type": "code",
   "execution_count": 5,
   "id": "74958bc6",
   "metadata": {},
   "outputs": [
    {
     "name": "stdout",
     "output_type": "stream",
     "text": [
      "Enter Number: 6\n",
      "     *\n",
      "    **\n",
      "   ***\n",
      "  ****\n",
      " *****\n",
      "******\n"
     ]
    }
   ],
   "source": [
    "n = int(input('Enter Number: '))\n",
    "for row in range(n):\n",
    "    for col in range(n):\n",
    "        if col >= n-row-1:\n",
    "            print('*', end='')\n",
    "        else:\n",
    "            print(' ', end='')\n",
    "    print()"
   ]
  },
  {
   "cell_type": "markdown",
   "id": "7bacd57e",
   "metadata": {},
   "source": [
    "## Pattern 4"
   ]
  },
  {
   "cell_type": "markdown",
   "id": "0fb68ecc",
   "metadata": {},
   "source": [
    "#### User Input = 5"
   ]
  },
  {
   "cell_type": "markdown",
   "id": "d1d6ad53",
   "metadata": {},
   "source": [
    "<img align=left src=\"Pattern images/1.jpg\" width=\"200\" height=\"200\">"
   ]
  },
  {
   "cell_type": "code",
   "execution_count": 9,
   "id": "baaea2c1",
   "metadata": {},
   "outputs": [
    {
     "name": "stdout",
     "output_type": "stream",
     "text": [
      "Enter Number: 5\n",
      "*****\n",
      " ****\n",
      "  ***\n",
      "   **\n",
      "    *\n"
     ]
    }
   ],
   "source": [
    "n = int(input('Enter Number: '))\n",
    "for row in range(n):\n",
    "    for col in range(n):\n",
    "        if col < row:\n",
    "            print(' ', end='')\n",
    "        else:\n",
    "            print('*', end='')\n",
    "    print()"
   ]
  },
  {
   "cell_type": "markdown",
   "id": "90ea1366",
   "metadata": {},
   "source": [
    "## Pattern 5"
   ]
  },
  {
   "cell_type": "markdown",
   "id": "904876c8",
   "metadata": {},
   "source": [
    "#### User Input = 5"
   ]
  },
  {
   "cell_type": "markdown",
   "id": "c57fd3ca",
   "metadata": {},
   "source": [
    "<img align=left src=\"Pattern images/3.jpg\" width=\"200\" height=\"200\">"
   ]
  },
  {
   "cell_type": "code",
   "execution_count": 11,
   "id": "679bcac2",
   "metadata": {},
   "outputs": [
    {
     "name": "stdout",
     "output_type": "stream",
     "text": [
      "Enter Number: 6\n",
      "******\n",
      "*****\n",
      "****\n",
      "***\n",
      "**\n",
      "*\n"
     ]
    }
   ],
   "source": [
    "n = int(input('Enter Number: '))\n",
    "for row in range(n):\n",
    "    for col in range(n-row):\n",
    "        print('*', end='')\n",
    "    print()"
   ]
  },
  {
   "cell_type": "markdown",
   "id": "f246c84a",
   "metadata": {},
   "source": [
    "## Pattern 6"
   ]
  },
  {
   "cell_type": "markdown",
   "id": "7cd5e594",
   "metadata": {},
   "source": [
    "#### User Input = 5"
   ]
  },
  {
   "cell_type": "markdown",
   "id": "5a4b2921",
   "metadata": {},
   "source": [
    "<img align=left src=\"Pattern images/5.jpg\" width=\"225\" height=\"225\">"
   ]
  },
  {
   "cell_type": "code",
   "execution_count": 27,
   "id": "a035c3ac",
   "metadata": {},
   "outputs": [
    {
     "name": "stdout",
     "output_type": "stream",
     "text": [
      "Enter Number: 5\n",
      "    *\n",
      "   ***\n",
      "  *****\n",
      " *******\n",
      "*********\n"
     ]
    }
   ],
   "source": [
    "n = int(input('Enter Number: '))\n",
    "for row in range(n):\n",
    "    for col in range(n+row):\n",
    "        if col < n-row-1:\n",
    "            print(' ', end='')\n",
    "        else:\n",
    "            print('*', end='')\n",
    "    print()"
   ]
  },
  {
   "cell_type": "markdown",
   "id": "d800335f",
   "metadata": {},
   "source": [
    "## Pattern 7"
   ]
  },
  {
   "cell_type": "markdown",
   "id": "264ec48c",
   "metadata": {},
   "source": [
    "#### User Input = 5"
   ]
  },
  {
   "cell_type": "markdown",
   "id": "497f3ebc",
   "metadata": {},
   "source": [
    "<img align=left src=\"Pattern images/6.jpg\" width=\"225\" height=\"225\">"
   ]
  },
  {
   "cell_type": "code",
   "execution_count": 26,
   "id": "b2ab87b3",
   "metadata": {},
   "outputs": [
    {
     "name": "stdout",
     "output_type": "stream",
     "text": [
      "Enter Number: 5\n",
      "*********\n",
      " *******\n",
      "  *****\n",
      "   ***\n",
      "    *\n"
     ]
    }
   ],
   "source": [
    "n = int(input('Enter Number: '))\n",
    "for row in range(n):\n",
    "    for col in range(2*n-row-1):\n",
    "        if col < row:\n",
    "            print(' ', end='')\n",
    "        else:\n",
    "            print('*', end='')\n",
    "    print()"
   ]
  },
  {
   "cell_type": "markdown",
   "id": "8a0a9b17",
   "metadata": {},
   "source": [
    "## Pattern 8"
   ]
  },
  {
   "cell_type": "markdown",
   "id": "f8948bbd",
   "metadata": {},
   "source": [
    "#### User Input = 5"
   ]
  },
  {
   "cell_type": "markdown",
   "id": "93411290",
   "metadata": {},
   "source": [
    "<img align=left src=\"Pattern images/8.jpg\" width=\"175\" height=\"175\">"
   ]
  },
  {
   "cell_type": "code",
   "execution_count": 17,
   "id": "32aa1117",
   "metadata": {},
   "outputs": [
    {
     "name": "stdout",
     "output_type": "stream",
     "text": [
      "Enter Number: 6\n",
      "*\n",
      "**\n",
      "***\n",
      "****\n",
      "*****\n",
      "******\n",
      "*****\n",
      "****\n",
      "***\n",
      "**\n",
      "*\n"
     ]
    }
   ],
   "source": [
    "n = int(input('Enter Number: '))\n",
    "total_rows = 2*n-1\n",
    "for row in range(total_rows):\n",
    "    if row > n-1:\n",
    "        row = total_rows - row\n",
    "    else:\n",
    "        row = row + 1\n",
    "    for col in range(row):\n",
    "        print('*', end='')\n",
    "    print()"
   ]
  },
  {
   "cell_type": "markdown",
   "id": "fa33c20e",
   "metadata": {},
   "source": [
    "## Pattern 9"
   ]
  },
  {
   "cell_type": "markdown",
   "id": "ed023c82",
   "metadata": {},
   "source": [
    "#### User Input = 5"
   ]
  },
  {
   "cell_type": "markdown",
   "id": "bb33f9dc",
   "metadata": {},
   "source": [
    "<img align=left src=\"Pattern images/9.jpg\" width=\"200\" height=\"200\">"
   ]
  },
  {
   "cell_type": "markdown",
   "id": "9b9a3604",
   "metadata": {},
   "source": [
    "There are multiple ways to solve this question.\n",
    "\n",
    "Almost looks similar."
   ]
  },
  {
   "cell_type": "code",
   "execution_count": 34,
   "id": "e1ce56c1",
   "metadata": {},
   "outputs": [
    {
     "name": "stdout",
     "output_type": "stream",
     "text": [
      "Enter Number: 6\n",
      "     *\n",
      "    ***\n",
      "   *****\n",
      "  *******\n",
      " *********\n",
      "***********\n",
      " *********\n",
      "  *******\n",
      "   *****\n",
      "    ***\n",
      "     *\n"
     ]
    }
   ],
   "source": [
    "# Method 1\n",
    "n = int(input('Enter Number: '))\n",
    "spaces = n - 1\n",
    "stars = n\n",
    "for row in range(2*n-1):\n",
    "    for col in range(stars):\n",
    "        if col < spaces:\n",
    "            print(' ', end='')\n",
    "        else:\n",
    "            print('*', end='')\n",
    "    print()\n",
    "    if row < n-1:\n",
    "        spaces -= 1\n",
    "        stars += 1\n",
    "    else:\n",
    "        spaces += 1\n",
    "        stars -= 1"
   ]
  },
  {
   "cell_type": "code",
   "execution_count": 3,
   "id": "42f88705",
   "metadata": {},
   "outputs": [
    {
     "name": "stdout",
     "output_type": "stream",
     "text": [
      "Enter Number: 6\n",
      "     *\n",
      "    ***\n",
      "   *****\n",
      "  *******\n",
      " *********\n",
      "***********\n",
      " *********\n",
      "  *******\n",
      "   *****\n",
      "    ***\n",
      "     *\n"
     ]
    }
   ],
   "source": [
    "# Method 2\n",
    "n = int(input('Enter Number: '))\n",
    "total_rows = 2*n-1\n",
    "for row in range(total_rows):\n",
    "    if row < n:\n",
    "        cols = n + row\n",
    "        spaces = n - row - 1\n",
    "    else:\n",
    "        cols = total_rows - (row-n) - 1\n",
    "        spaces = row - n + 1\n",
    "    for col in range(cols):\n",
    "        if col < spaces:\n",
    "            print(' ', end='')\n",
    "        else:\n",
    "            print('*', end='')\n",
    "    print()"
   ]
  },
  {
   "cell_type": "code",
   "execution_count": 11,
   "id": "17787263",
   "metadata": {},
   "outputs": [
    {
     "name": "stdout",
     "output_type": "stream",
     "text": [
      "Enter Number: 6\n",
      "     *\n",
      "    ***\n",
      "   *****\n",
      "  *******\n",
      " *********\n",
      "***********\n",
      " *********\n",
      "  *******\n",
      "   *****\n",
      "    ***\n",
      "     *\n"
     ]
    }
   ],
   "source": [
    "# Method 3\n",
    "n = int(input('Enter Number: '))\n",
    "for row in range(n):\n",
    "    for col in range(n+row):\n",
    "        if col < n-row-1:\n",
    "            print(' ', end='')\n",
    "        else:\n",
    "            print('*', end='')\n",
    "    print()\n",
    "for row in range(n-1):\n",
    "    for col in range(2*(n-1)-row):\n",
    "        if col < row + 1:\n",
    "            print(' ', end='')\n",
    "        else:\n",
    "            print('*', end='')\n",
    "    print()"
   ]
  },
  {
   "cell_type": "code",
   "execution_count": 26,
   "id": "a0ad038b",
   "metadata": {},
   "outputs": [
    {
     "name": "stdout",
     "output_type": "stream",
     "text": [
      "Enter Number: 6\n",
      "     *\n",
      "    ***\n",
      "   *****\n",
      "  *******\n",
      " *********\n",
      "***********\n",
      " *********\n",
      "  *******\n",
      "   *****\n",
      "    ***\n",
      "     *\n"
     ]
    }
   ],
   "source": [
    "# Method 4\n",
    "n = int(input('Enter Number: '))\n",
    "for row in range(n):\n",
    "    for spaces in range(n-row-1):\n",
    "        print(' ', end='')\n",
    "    for stars in range(2*row+1):\n",
    "        print('*', end='')\n",
    "    print()\n",
    "for row in range(n-1, 0, -1):\n",
    "    for spaces in range(n - row):\n",
    "        print(' ', end='')\n",
    "    for stars in range(2*row-1):\n",
    "        print('*', end='')\n",
    "    print()"
   ]
  },
  {
   "cell_type": "code",
   "execution_count": null,
   "id": "45291781",
   "metadata": {},
   "outputs": [],
   "source": [
    "# Method 5\n",
    "n = int(input('Enter Number: '))\n",
    "for row in range(2*n-1):\n",
    "    if row < n:\n",
    "        for spaces in range(n-row-1):\n",
    "            print(' ', end='')\n",
    "        for stars in range(2*row+1):\n",
    "            print('*', end='')\n",
    "    else:\n",
    "        for spaces in range(row-n+1):\n",
    "            print(' ', end='')\n",
    "        for stars in range(2*(2*n-row)-3):\n",
    "            print('*', end='')\n",
    "    print()"
   ]
  },
  {
   "cell_type": "markdown",
   "id": "68e48350",
   "metadata": {},
   "source": [
    "## Pattern 10"
   ]
  },
  {
   "cell_type": "markdown",
   "id": "d8963862",
   "metadata": {},
   "source": [
    "#### User Input = 5"
   ]
  },
  {
   "cell_type": "markdown",
   "id": "5d66790e",
   "metadata": {},
   "source": [
    "<img align=left src=\"Pattern images/10.jpg\" width=\"200\" height=\"200\">"
   ]
  },
  {
   "cell_type": "code",
   "execution_count": 30,
   "id": "ef53f51e",
   "metadata": {},
   "outputs": [
    {
     "name": "stdout",
     "output_type": "stream",
     "text": [
      "Enter Number: 6\n",
      "     *\n",
      "    * *\n",
      "   *   *\n",
      "  *     *\n",
      " *       *\n",
      "*         *\n",
      " *       *\n",
      "  *     *\n",
      "   *   *\n",
      "    * *\n",
      "     *\n"
     ]
    }
   ],
   "source": [
    "n = int(input('Enter Number: '))\n",
    "left_star = n-1\n",
    "right_star = n-1\n",
    "for row in range(2*n-1):\n",
    "    for col in range(right_star+1):\n",
    "        if col==left_star or col==right_star:\n",
    "            print('*', end='')\n",
    "        else:\n",
    "            print(' ', end='')\n",
    "    print()\n",
    "    if row < n-1:\n",
    "        left_star -= 1\n",
    "        right_star += 1\n",
    "    else:\n",
    "        left_star += 1\n",
    "        right_star -= 1"
   ]
  },
  {
   "cell_type": "markdown",
   "id": "cb6d4633",
   "metadata": {},
   "source": [
    "## Pattern 11"
   ]
  },
  {
   "cell_type": "markdown",
   "id": "4ba124cb",
   "metadata": {},
   "source": [
    "#### User Input = 5"
   ]
  },
  {
   "cell_type": "markdown",
   "id": "af125c38",
   "metadata": {},
   "source": [
    "<img align=left src=\"Pattern images/11.jpg\" width=\"200\" height=\"200\">"
   ]
  },
  {
   "cell_type": "code",
   "execution_count": 3,
   "id": "c0a11a4e",
   "metadata": {},
   "outputs": [
    {
     "name": "stdout",
     "output_type": "stream",
     "text": [
      "Enter Number: 7\n",
      "*************\n",
      "****** ******\n",
      "*****   *****\n",
      "****     ****\n",
      "***       ***\n",
      "**         **\n",
      "*           *\n",
      "**         **\n",
      "***       ***\n",
      "****     ****\n",
      "*****   *****\n",
      "****** ******\n",
      "*************\n"
     ]
    }
   ],
   "source": [
    "n = int(input('Enter Number: '))\n",
    "left_star = n\n",
    "right_star = n - 1\n",
    "total_rows = 2*n-1\n",
    "for row in range(total_rows):\n",
    "    for col in range(total_rows):\n",
    "        if row in [0, total_rows-1] or col<left_star or col>=right_star:\n",
    "            print('*', end='')\n",
    "        else:\n",
    "            print(' ', end='')\n",
    "    print()\n",
    "    if row < n-1:\n",
    "        left_star -= 1\n",
    "        right_star += 1\n",
    "    else:\n",
    "        left_star += 1\n",
    "        right_star -= 1"
   ]
  },
  {
   "cell_type": "markdown",
   "id": "9bd6af0b",
   "metadata": {},
   "source": [
    "## Pattern 12"
   ]
  },
  {
   "cell_type": "markdown",
   "id": "63c396ca",
   "metadata": {},
   "source": [
    "#### User Input = 5"
   ]
  },
  {
   "cell_type": "markdown",
   "id": "a2d220dc",
   "metadata": {},
   "source": [
    "<img align=left src=\"Pattern images/14.jpg\" width=\"200\" height=\"200\">"
   ]
  },
  {
   "cell_type": "code",
   "execution_count": 9,
   "id": "9ed27952",
   "metadata": {},
   "outputs": [
    {
     "name": "stdout",
     "output_type": "stream",
     "text": [
      "Enter Number: 6\n",
      "     *\n",
      "    ***\n",
      "   * * *\n",
      "  *  *  *\n",
      " *   *   *\n",
      "***********\n",
      " *   *   *\n",
      "  *  *  *\n",
      "   * * *\n",
      "    ***\n",
      "     *\n"
     ]
    }
   ],
   "source": [
    "n = int(input('Enter Number: '))\n",
    "left = n\n",
    "right = n\n",
    "for row in range(2*n-1):\n",
    "    for col in range(right):\n",
    "        if col in [left-1, n-1, right-1] or row == n-1:\n",
    "            print('*', end='')\n",
    "        else:\n",
    "            print(' ', end='')\n",
    "    print()\n",
    "    if row < n-1:\n",
    "        left -= 1\n",
    "        right += 1\n",
    "    else:\n",
    "        left += 1\n",
    "        right -= 1"
   ]
  },
  {
   "cell_type": "markdown",
   "id": "bc247113",
   "metadata": {},
   "source": [
    "## Pattern 13"
   ]
  },
  {
   "cell_type": "markdown",
   "id": "f56c6188",
   "metadata": {},
   "source": [
    "#### User Input = 7"
   ]
  },
  {
   "cell_type": "markdown",
   "id": "f93d2b73",
   "metadata": {},
   "source": [
    "<img align=left src=\"Pattern images/13.jpg\" width=\"200\" height=\"200\">"
   ]
  },
  {
   "cell_type": "code",
   "execution_count": 18,
   "id": "7466b1c0",
   "metadata": {},
   "outputs": [
    {
     "name": "stdout",
     "output_type": "stream",
     "text": [
      "Enter Number: 7\n",
      "*******\n",
      "**   **\n",
      "* * * *\n",
      "*  *  *\n",
      "* * * *\n",
      "**   **\n",
      "*******\n"
     ]
    }
   ],
   "source": [
    "# Input -> Odd number greater than 3\n",
    "n = int(input('Enter Number: '))\n",
    "left = 0\n",
    "right = n-1\n",
    "for row in range(n):\n",
    "    for col in range(n):\n",
    "        if col in [0, left, right, n-1] or row in [0, n-1]:\n",
    "            print('*', end='')\n",
    "        else:\n",
    "            print(' ', end='')\n",
    "    print()\n",
    "    left += 1\n",
    "    right -= 1"
   ]
  },
  {
   "cell_type": "markdown",
   "id": "85e72a51",
   "metadata": {},
   "source": [
    "## Pattern 14"
   ]
  },
  {
   "cell_type": "markdown",
   "id": "e22bf4f8",
   "metadata": {},
   "source": [
    "#### User Input = 5"
   ]
  },
  {
   "cell_type": "markdown",
   "id": "2a973a1c",
   "metadata": {},
   "source": [
    "<img align=left src=\"Pattern images/butterfly.jpg\" width=\"200\" height=\"200\">"
   ]
  },
  {
   "cell_type": "code",
   "execution_count": 8,
   "id": "bcfc232f",
   "metadata": {},
   "outputs": [
    {
     "name": "stdout",
     "output_type": "stream",
     "text": [
      "Enter Number: 8\n",
      "*             *\n",
      "**           **\n",
      "***         ***\n",
      "****       ****\n",
      "*****     *****\n",
      "******   ******\n",
      "******* *******\n",
      "***************\n",
      "***************\n",
      "******* *******\n",
      "******   ******\n",
      "*****     *****\n",
      "****       ****\n",
      "***         ***\n",
      "**           **\n",
      "*             *\n"
     ]
    }
   ],
   "source": [
    "n = int(input('Enter Number: '))\n",
    "total_rows = 2*n\n",
    "left = 0\n",
    "right = total_rows - 1\n",
    "for row in range(total_rows):\n",
    "    if row < n:\n",
    "        left += 1\n",
    "        right -= 1\n",
    "    elif row > n:\n",
    "        left -= 1\n",
    "        right += 1\n",
    "    for col in range(total_rows-1):\n",
    "        if left <= col < right:\n",
    "            print(' ', end='')\n",
    "        else:\n",
    "            print('*', end='')\n",
    "    print()"
   ]
  },
  {
   "cell_type": "markdown",
   "id": "0bc7f6f4",
   "metadata": {},
   "source": [
    "## Pattern 15"
   ]
  },
  {
   "cell_type": "markdown",
   "id": "f8ac1010",
   "metadata": {},
   "source": [
    "#### User Input = 5"
   ]
  },
  {
   "cell_type": "markdown",
   "id": "3be90c83",
   "metadata": {},
   "source": [
    "<img align=left src=\"Pattern images/15.jpg\" width=\"200\" height=\"200\">"
   ]
  },
  {
   "cell_type": "code",
   "execution_count": 12,
   "id": "631436d8",
   "metadata": {},
   "outputs": [
    {
     "name": "stdout",
     "output_type": "stream",
     "text": [
      "Enter Number: 5\n",
      "*********\n",
      " *******\n",
      "  *****\n",
      "   ***\n",
      "    *\n",
      "   ***\n",
      "  *****\n",
      " *******\n",
      "*********\n"
     ]
    }
   ],
   "source": [
    "n = int(input('Enter Number: '))\n",
    "left = 0\n",
    "right = 2*n-1\n",
    "for row in range(2*n-1):\n",
    "    for col in range(right):\n",
    "        if col < left:\n",
    "            print(' ', end='')\n",
    "        else:\n",
    "            print('*', end='')\n",
    "    print()\n",
    "    if row < n-1:\n",
    "        left += 1\n",
    "        right -= 1\n",
    "    else:\n",
    "        left -= 1\n",
    "        right += 1"
   ]
  },
  {
   "cell_type": "markdown",
   "id": "46818c22",
   "metadata": {},
   "source": [
    "## Pattern 16"
   ]
  },
  {
   "cell_type": "markdown",
   "id": "c5c68326",
   "metadata": {},
   "source": [
    "#### User Input = 5"
   ]
  },
  {
   "cell_type": "markdown",
   "id": "6040ba58",
   "metadata": {},
   "source": [
    "<img align=left src=\"Pattern images/16.jpg\" width=\"200\" height=\"200\">"
   ]
  },
  {
   "cell_type": "code",
   "execution_count": 14,
   "id": "785a871d",
   "metadata": {},
   "outputs": [
    {
     "name": "stdout",
     "output_type": "stream",
     "text": [
      "Enter Number: 5\n",
      "    *\n",
      "   ***\n",
      "  *****\n",
      " *******\n",
      "*********\n",
      " *******\n",
      "  *****\n",
      "   ***\n",
      "    *\n",
      "   ***\n",
      "  *****\n"
     ]
    }
   ],
   "source": [
    "n = int(input('Enter Number: '))\n",
    "rows = 3*n-4\n",
    "left = n-1\n",
    "right = n\n",
    "for row in range(rows):\n",
    "    for col in range(right):\n",
    "        if col < left:\n",
    "            print(' ', end='')\n",
    "        else:\n",
    "            print('*', end='')\n",
    "    print()\n",
    "    if row < n-1 or row >= 2*n-2:\n",
    "        left -= 1\n",
    "        right += 1\n",
    "    elif row >= n-1:\n",
    "        left += 1\n",
    "        right -= 1"
   ]
  },
  {
   "cell_type": "markdown",
   "id": "90a8bdb1",
   "metadata": {},
   "source": [
    "## Pattern 17"
   ]
  },
  {
   "cell_type": "markdown",
   "id": "35b73e7d",
   "metadata": {},
   "source": [
    "#### User Input = 5"
   ]
  },
  {
   "cell_type": "markdown",
   "id": "907cd5fe",
   "metadata": {},
   "source": [
    "<img align=left src=\"Pattern images/17.jpg\" width=\"300\" height=\"300\">"
   ]
  },
  {
   "cell_type": "code",
   "execution_count": 25,
   "id": "76372961",
   "metadata": {},
   "outputs": [
    {
     "name": "stdout",
     "output_type": "stream",
     "text": [
      "Enter Number: 6\n",
      "*********************\n",
      " ********* *********\n",
      "  *******   *******\n",
      "   *****     *****\n",
      "    ***       ***\n",
      "     ***********\n",
      "      *********\n",
      "       *******\n",
      "        *****\n",
      "         ***\n",
      "          *\n"
     ]
    }
   ],
   "source": [
    "n = int(input('Enter Number: '))\n",
    "center = 2*n-1\n",
    "for row in range(2*n-1):\n",
    "    for col in range(4*n-3-row):\n",
    "        if col < row or (center-row <= col < center+row-1 and 0 < row < n-1):\n",
    "            print(' ', end='')\n",
    "        else:\n",
    "            print('*', end='')\n",
    "    print()  "
   ]
  },
  {
   "cell_type": "markdown",
   "id": "ba273402",
   "metadata": {},
   "source": [
    "## Pattern 18"
   ]
  },
  {
   "cell_type": "markdown",
   "id": "ba391b48",
   "metadata": {},
   "source": [
    "#### User Input = 4"
   ]
  },
  {
   "cell_type": "markdown",
   "id": "7452c50e",
   "metadata": {},
   "source": [
    "<img align=left src=\"Pattern images/18.jpg\" width=\"175\" height=\"175\">"
   ]
  },
  {
   "cell_type": "code",
   "execution_count": 6,
   "id": "3c2e0889",
   "metadata": {},
   "outputs": [
    {
     "name": "stdout",
     "output_type": "stream",
     "text": [
      "Enter Number: 4\n",
      "   *\n",
      "  ***\n",
      " *****\n",
      "*******\n",
      "*     *\n",
      "**   **\n",
      "*** ***\n",
      "*******\n",
      "*** ***\n",
      "**   **\n",
      "*     *\n",
      "*******\n",
      " *****\n",
      "  ***\n",
      "   *\n"
     ]
    }
   ],
   "source": [
    "n = int(input('Enter Number: '))\n",
    "for row in range(n):\n",
    "    for col in range(n+row):\n",
    "        if col < n-row-1:\n",
    "            print(' ', end='')\n",
    "        else:\n",
    "            print('*', end='')\n",
    "    print()\n",
    "\n",
    "left = 0\n",
    "right = 2*n-1\n",
    "for row in range(2*n-1):\n",
    "    for col in range(2*n-1):\n",
    "        if left < col < right-1:\n",
    "            print(' ', end='')\n",
    "        else:\n",
    "            print('*', end='')\n",
    "    print()\n",
    "    if row < n-1:\n",
    "        left += 1\n",
    "        right -= 1\n",
    "    else:\n",
    "        left -= 1\n",
    "        right += 1\n",
    "    \n",
    "for row in range(n):\n",
    "    for col in range(2*n-1-row):\n",
    "        if col < row:\n",
    "            print(' ', end='')\n",
    "        else:\n",
    "            print('*', end='')\n",
    "    print()"
   ]
  },
  {
   "cell_type": "markdown",
   "id": "1a360202",
   "metadata": {},
   "source": [
    "## Pattern 19"
   ]
  },
  {
   "cell_type": "markdown",
   "id": "a354e563",
   "metadata": {},
   "source": [
    "#### User Input = 7 (Odd number only)"
   ]
  },
  {
   "cell_type": "markdown",
   "id": "40089f75",
   "metadata": {},
   "source": [
    "<img align=left src=\"Pattern images/19.jpg\" width=\"400\" height=\"400\">"
   ]
  },
  {
   "cell_type": "code",
   "execution_count": 9,
   "id": "4e3a42d7",
   "metadata": {},
   "outputs": [
    {
     "name": "stdout",
     "output_type": "stream",
     "text": [
      "Enter Number: 9\n",
      "***************************\n",
      " *     *  *     *  *     *\n",
      "  *   *    *   *    *   *\n",
      "   * *      * *      * *\n",
      "    *        *        *\n",
      "   * *      * *      * *\n",
      "  *   *    *   *    *   *\n",
      " *     *  *     *  *     *\n",
      "***************************\n"
     ]
    }
   ],
   "source": [
    "n = int(input('Enter Number: '))\n",
    "end = 3*n\n",
    "for row in range(n):\n",
    "    if row < (n+1)/2:\n",
    "        end -= 1\n",
    "    else:\n",
    "        end += 1\n",
    "    for col in range(end+1):\n",
    "        if col in [row, row+n, row+2*n, n-row-1, 2*n-1-row, 3*n-1-row] or row in [0, n-1]:\n",
    "            print('*', end='')\n",
    "        else:\n",
    "            print(' ', end='')\n",
    "    print()"
   ]
  },
  {
   "cell_type": "markdown",
   "id": "c4f95230",
   "metadata": {},
   "source": [
    "## Pattern 20"
   ]
  },
  {
   "cell_type": "markdown",
   "id": "92942c57",
   "metadata": {},
   "source": [
    "#### User Input = 6"
   ]
  },
  {
   "cell_type": "markdown",
   "id": "a9acdf29",
   "metadata": {},
   "source": [
    "<img align=left src=\"Pattern images/20.jpg\" width=\"250\" height=\"250\">"
   ]
  },
  {
   "cell_type": "code",
   "execution_count": 60,
   "id": "9bd5eb38",
   "metadata": {},
   "outputs": [
    {
     "name": "stdout",
     "output_type": "stream",
     "text": [
      "Enter Number: 6\n",
      " ***   ***\n",
      "***** *****\n",
      "***********\n",
      " *********\n",
      "  *******\n",
      "   *****\n",
      "    ***\n",
      "     *\n"
     ]
    }
   ],
   "source": [
    "n = int(input('Enter Number: '))\n",
    "center = n-1\n",
    "for row in range(2):\n",
    "    for col in range(2*n-2+row):\n",
    "        if col==0 and row==0 or center+row-1 <= col <= center-row+1:\n",
    "            print(' ', end='')\n",
    "        else:\n",
    "            print('*', end='')\n",
    "    print()\n",
    "for row in range(n):\n",
    "    for col in range(2*n-1-row):\n",
    "        if col < row:\n",
    "            print(' ', end='')\n",
    "        else:\n",
    "            print('*', end='')\n",
    "    print()"
   ]
  },
  {
   "cell_type": "markdown",
   "id": "181447cb",
   "metadata": {},
   "source": [
    "## Pattern 21"
   ]
  },
  {
   "cell_type": "markdown",
   "id": "153a2278",
   "metadata": {},
   "source": [
    "#### User Input = 5"
   ]
  },
  {
   "cell_type": "markdown",
   "id": "d4b8c7d0",
   "metadata": {},
   "source": [
    "<img align=left src=\"Pattern images/21.jpg\" width=\"375\" height=\"375\">"
   ]
  },
  {
   "cell_type": "code",
   "execution_count": 20,
   "id": "de285b04",
   "metadata": {},
   "outputs": [
    {
     "name": "stdout",
     "output_type": "stream",
     "text": [
      "Enter Number: 8\n",
      "       *             *\n",
      "      ***           ***\n",
      "     *****         *****\n",
      "    *******       *******\n",
      "   *********     *********\n",
      "  ***********   ***********\n",
      " ************* *************\n",
      "*****************************\n"
     ]
    }
   ],
   "source": [
    "n = int(input('Enter Number: '))\n",
    "formula = 3*n-2\n",
    "for row in range(n):\n",
    "    for col in range(formula+row):\n",
    "        if col < n-1-row or n+row <= col < formula-row-1:\n",
    "            print(' ', end='')\n",
    "        else:\n",
    "            print('*', end='')\n",
    "    print()"
   ]
  },
  {
   "cell_type": "markdown",
   "id": "b042dff8",
   "metadata": {},
   "source": [
    "## Pattern 22"
   ]
  },
  {
   "cell_type": "markdown",
   "id": "247d624e",
   "metadata": {},
   "source": [
    "#### User Input = 5"
   ]
  },
  {
   "cell_type": "markdown",
   "id": "28d7150e",
   "metadata": {},
   "source": [
    "<img align=left src=\"Pattern images/28.jpg\" width=\"200\" height=\"200\">"
   ]
  },
  {
   "cell_type": "code",
   "execution_count": 22,
   "id": "8fdd42b3",
   "metadata": {},
   "outputs": [
    {
     "name": "stdout",
     "output_type": "stream",
     "text": [
      "Enter Number: 7\n",
      "1010101\n",
      "0101010\n",
      "1010101\n",
      "0101010\n",
      "1010101\n",
      "0101010\n",
      "1010101\n"
     ]
    }
   ],
   "source": [
    "n = int(input('Enter Number: '))\n",
    "for row in range(n):\n",
    "    for col in range(n):\n",
    "        if (row+col)%2==0:\n",
    "            print('1', end='')\n",
    "        else:\n",
    "            print('0', end='')\n",
    "    print()"
   ]
  },
  {
   "cell_type": "markdown",
   "id": "093c2d8b",
   "metadata": {},
   "source": [
    "## Pattern 23 Floyd's triangle"
   ]
  },
  {
   "cell_type": "markdown",
   "id": "f6145607",
   "metadata": {},
   "source": [
    "#### User Input = 5"
   ]
  },
  {
   "cell_type": "markdown",
   "id": "c51ff875",
   "metadata": {},
   "source": [
    "<img align=left src=\"Pattern images/33.jpg\" width=\"200\" height=\"200\">"
   ]
  },
  {
   "cell_type": "code",
   "execution_count": 26,
   "id": "4a6efc00",
   "metadata": {},
   "outputs": [
    {
     "name": "stdout",
     "output_type": "stream",
     "text": [
      "Enter Number: 5\n",
      "1 \n",
      "2 3 \n",
      "4 5 6 \n",
      "7 8 9 10 \n",
      "11 12 13 14 15 \n"
     ]
    }
   ],
   "source": [
    "n = int(input('Enter Number: '))\n",
    "num = 0\n",
    "for row in range(n):\n",
    "    for col in range(row+1):\n",
    "        num += 1\n",
    "        print(num,'', end='')\n",
    "    print()"
   ]
  },
  {
   "cell_type": "markdown",
   "id": "cdb51906",
   "metadata": {},
   "source": [
    "## Pattern 24"
   ]
  },
  {
   "cell_type": "markdown",
   "id": "839c9c02",
   "metadata": {},
   "source": [
    "#### User Input = 5"
   ]
  },
  {
   "cell_type": "markdown",
   "id": "9405e51d",
   "metadata": {},
   "source": [
    "<img align=left src=\"Pattern images/29.jpg\" width=\"200\" height=\"200\">"
   ]
  },
  {
   "cell_type": "code",
   "execution_count": 32,
   "id": "930260ac",
   "metadata": {},
   "outputs": [
    {
     "name": "stdout",
     "output_type": "stream",
     "text": [
      "Enter Number: 5\n",
      "1\n",
      "21\n",
      "321\n",
      "4321\n",
      "54321\n"
     ]
    }
   ],
   "source": [
    "n = int(input('Enter Number: '))\n",
    "for row in range(n):\n",
    "    for col in range(row+1,0,-1):\n",
    "        print(col, end='')\n",
    "    print()"
   ]
  },
  {
   "cell_type": "markdown",
   "id": "5ce0b113",
   "metadata": {},
   "source": [
    "## Pattern 25"
   ]
  },
  {
   "cell_type": "markdown",
   "id": "6e69ca20",
   "metadata": {},
   "source": [
    "#### User Input = 5"
   ]
  },
  {
   "cell_type": "markdown",
   "id": "7c9f86cc",
   "metadata": {},
   "source": [
    "<img align=left src=\"Pattern images/30.jpg\" width=\"200\" height=\"200\">"
   ]
  },
  {
   "cell_type": "code",
   "execution_count": 35,
   "id": "50b7f2bd",
   "metadata": {},
   "outputs": [
    {
     "name": "stdout",
     "output_type": "stream",
     "text": [
      "Enter Number: 5\n",
      "5\n",
      "54\n",
      "543\n",
      "5432\n",
      "54321\n"
     ]
    }
   ],
   "source": [
    "n = int(input('Enter Number: '))\n",
    "for row in range(n):\n",
    "    for col in range(n, n-row-1, -1):\n",
    "        print(col, end='')\n",
    "    print()"
   ]
  },
  {
   "cell_type": "markdown",
   "id": "5169484b",
   "metadata": {},
   "source": [
    "## Pattern 26"
   ]
  },
  {
   "cell_type": "markdown",
   "id": "4c10342e",
   "metadata": {},
   "source": [
    "#### User Input = 5"
   ]
  },
  {
   "cell_type": "markdown",
   "id": "428c6280",
   "metadata": {},
   "source": [
    "<img align=left src=\"Pattern images/27.jpg\" width=\"200\" height=\"200\">"
   ]
  },
  {
   "cell_type": "code",
   "execution_count": 38,
   "id": "04d99fb4",
   "metadata": {},
   "outputs": [
    {
     "name": "stdout",
     "output_type": "stream",
     "text": [
      "Enter Number: 6\n",
      "1\n",
      "10\n",
      "101\n",
      "1010\n",
      "10101\n",
      "101010\n"
     ]
    }
   ],
   "source": [
    "n = int(input('Enter Number: '))\n",
    "for row in range(n):\n",
    "    for col in range(row+1):\n",
    "        if col%2==0:\n",
    "            print('1', end='')\n",
    "        else:\n",
    "            print('0', end='')\n",
    "    print()"
   ]
  },
  {
   "cell_type": "markdown",
   "id": "be021543",
   "metadata": {},
   "source": [
    "## Pattern 27"
   ]
  },
  {
   "cell_type": "markdown",
   "id": "648ea071",
   "metadata": {},
   "source": [
    "#### User Input = 5"
   ]
  },
  {
   "cell_type": "markdown",
   "id": "90e0876f",
   "metadata": {},
   "source": [
    "<img align=left src=\"Pattern images/36.jpg\" width=\"200\" height=\"200\">"
   ]
  },
  {
   "cell_type": "code",
   "execution_count": 39,
   "id": "f222b38c",
   "metadata": {},
   "outputs": [
    {
     "name": "stdout",
     "output_type": "stream",
     "text": [
      "Enter Number: 5\n",
      "01234\n",
      "0123\n",
      "012\n",
      "01\n",
      "0\n"
     ]
    }
   ],
   "source": [
    "n = int(input('Enter Number: '))\n",
    "for row in range(n):\n",
    "    for col in range(n-row):\n",
    "        print(col, end='')\n",
    "    print()"
   ]
  },
  {
   "cell_type": "markdown",
   "id": "4af689c9",
   "metadata": {},
   "source": [
    "## Pattern 28"
   ]
  },
  {
   "cell_type": "markdown",
   "id": "8fc502bc",
   "metadata": {},
   "source": [
    "#### User Input = 5"
   ]
  },
  {
   "cell_type": "markdown",
   "id": "142db818",
   "metadata": {},
   "source": [
    "<img align=left src=\"Pattern images/35.jpg\" width=\"250\" height=\"250\">"
   ]
  },
  {
   "cell_type": "code",
   "execution_count": 42,
   "id": "dfc2f582",
   "metadata": {},
   "outputs": [
    {
     "name": "stdout",
     "output_type": "stream",
     "text": [
      "Enter Number: 5\n",
      "5432112345\n",
      "54322345\n",
      "543345\n",
      "5445\n",
      "55\n"
     ]
    }
   ],
   "source": [
    "n = int(input('Enter Number: '))\n",
    "for row in range(n):\n",
    "    for col in range(n,row,-1):\n",
    "        print(col, end='')\n",
    "    for col in range(row+1,n+1):\n",
    "        print(col, end='')\n",
    "    print()"
   ]
  },
  {
   "cell_type": "markdown",
   "id": "88702417",
   "metadata": {},
   "source": [
    "## Pattern 29"
   ]
  },
  {
   "cell_type": "markdown",
   "id": "2a3a9674",
   "metadata": {},
   "source": [
    "#### User Input = 5"
   ]
  },
  {
   "cell_type": "markdown",
   "id": "3d5feea4",
   "metadata": {},
   "source": [
    "<img align=left src=\"Pattern images/31.jpg\" width=\"225\" height=\"225\">"
   ]
  },
  {
   "cell_type": "code",
   "execution_count": 27,
   "id": "70f8720c",
   "metadata": {},
   "outputs": [
    {
     "name": "stdout",
     "output_type": "stream",
     "text": [
      "Enter Number: 7\n",
      "      1\n",
      "     212\n",
      "    32123\n",
      "   4321234\n",
      "  543212345\n",
      " 65432123456\n",
      "7654321234567\n",
      " 65432123456\n",
      "  543212345\n",
      "   4321234\n",
      "    32123\n",
      "     212\n",
      "      1\n"
     ]
    }
   ],
   "source": [
    "n = int(input('Enter Number: '))\n",
    "for row in range(2*n-1):\n",
    "    if row < n:\n",
    "        space = n - row - 1\n",
    "        m = row + 1\n",
    "    else:\n",
    "        space += 1\n",
    "        m -= 1\n",
    "    for col in range(space):\n",
    "        print(' ', end='')\n",
    "    for col in range(m,0,-1):\n",
    "        print(col, end='')\n",
    "    for col in range(2,m+1):\n",
    "        print(col, end='')\n",
    "    print()"
   ]
  },
  {
   "cell_type": "markdown",
   "id": "8508883d",
   "metadata": {},
   "source": [
    "## Pattern 30"
   ]
  },
  {
   "cell_type": "markdown",
   "id": "5774326c",
   "metadata": {},
   "source": [
    "#### User Input = 5"
   ]
  },
  {
   "cell_type": "markdown",
   "id": "ebe0a49e",
   "metadata": {},
   "source": [
    "<img align=left src=\"Pattern images/34.jpg\" width=\"225\" height=\"225\">"
   ]
  },
  {
   "cell_type": "code",
   "execution_count": 12,
   "id": "ee5e0cab",
   "metadata": {},
   "outputs": [
    {
     "name": "stdout",
     "output_type": "stream",
     "text": [
      "Enter Number: 5\n",
      "    1\n",
      "   123\n",
      "  12345\n",
      " 1234567\n",
      "123456789\n"
     ]
    }
   ],
   "source": [
    "n = int(input('Enter Number: '))\n",
    "for row in range(n):\n",
    "    for col in range(1,n+row+1):\n",
    "        if col < n-row:\n",
    "            print(' ', end='')\n",
    "        else:\n",
    "            print(col-(n-row-1), end='')\n",
    "    print()"
   ]
  },
  {
   "cell_type": "markdown",
   "id": "56f9fe1f",
   "metadata": {},
   "source": [
    "## Pattern 31 Pascal's triangle"
   ]
  },
  {
   "cell_type": "markdown",
   "id": "7278df2c",
   "metadata": {},
   "source": [
    "#### User Input = 5"
   ]
  },
  {
   "cell_type": "markdown",
   "id": "bdc6a470",
   "metadata": {},
   "source": [
    "<img align=left src=\"Pattern images/32.jpg\" width=\"225\" height=\"225\">"
   ]
  },
  {
   "cell_type": "code",
   "execution_count": 67,
   "id": "9516c59c",
   "metadata": {},
   "outputs": [
    {
     "name": "stdout",
     "output_type": "stream",
     "text": [
      "Enter Number: 5\n",
      "    1 \n",
      "   1 1 \n",
      "  1 2 1 \n",
      " 1 3 3 1 \n",
      "1 4 6 4 1 \n"
     ]
    }
   ],
   "source": [
    "# Method 1\n",
    "n = int(input('Enter Number: '))\n",
    "previous = [1]\n",
    "nxt = [1]\n",
    "for row in range(n):\n",
    "    for col in range(n-row-1):\n",
    "        print(' ', end='')\n",
    "    if row<2:\n",
    "        for col in range(len(previous)):\n",
    "            print(previous[col], end=' ')\n",
    "            nxt.append(previous[col])\n",
    "    else:\n",
    "        print(previous[0], end=' ')\n",
    "        nxt.append(previous[0])\n",
    "        \n",
    "        for col in range(len(previous)-1):\n",
    "            print(previous[col]+previous[col+1], end=' ')\n",
    "            nxt.append(previous[col]+previous[col+1])\n",
    "            \n",
    "        print(previous[-1], end=' ')\n",
    "        nxt.append(previous[-1])\n",
    "        \n",
    "    previous = nxt.copy()\n",
    "    nxt = []\n",
    "    print()"
   ]
  },
  {
   "cell_type": "markdown",
   "id": "93f30f89",
   "metadata": {},
   "source": [
    "## Pattern 32"
   ]
  },
  {
   "cell_type": "markdown",
   "id": "c72be747",
   "metadata": {},
   "source": [
    "#### User Input = 5"
   ]
  },
  {
   "cell_type": "markdown",
   "id": "5aca6cd8",
   "metadata": {},
   "source": [
    "<img align=left src=\"Pattern images/26.jpg\" width=\"225\" height=\"225\">"
   ]
  },
  {
   "cell_type": "code",
   "execution_count": 19,
   "id": "470a516d",
   "metadata": {},
   "outputs": [
    {
     "name": "stdout",
     "output_type": "stream",
     "text": [
      "Enter Number: 5\n",
      "1 2 3 4 5 \n",
      " 2 3 4 5 \n",
      "  3 4 5 \n",
      "   4 5 \n",
      "    5 \n",
      "   4 5 \n",
      "  3 4 5 \n",
      " 2 3 4 5 \n",
      "1 2 3 4 5 \n"
     ]
    }
   ],
   "source": [
    "n = int(input('Enter Number: '))\n",
    "m = 2*n-1\n",
    "for row in range(m):\n",
    "    if row < n:\n",
    "        start_num = row + 1\n",
    "    else:\n",
    "        start_num = m - row\n",
    "    for col in range(start_num-1):\n",
    "        print(' ', end='')\n",
    "    for col in range(start_num,n+1):\n",
    "        print(col, end=' ')\n",
    "    print()"
   ]
  },
  {
   "cell_type": "markdown",
   "id": "1e22acf3",
   "metadata": {},
   "source": [
    "## Pattern 33"
   ]
  },
  {
   "cell_type": "markdown",
   "id": "a686bc05",
   "metadata": {},
   "source": [
    "#### User Input = 5"
   ]
  },
  {
   "cell_type": "markdown",
   "id": "c838b159",
   "metadata": {},
   "source": [
    "<img align=left src=\"Pattern images/39.jpg\" width=\"180\" height=\"180\">"
   ]
  },
  {
   "cell_type": "code",
   "execution_count": 21,
   "id": "4456d645",
   "metadata": {},
   "outputs": [
    {
     "name": "stdout",
     "output_type": "stream",
     "text": [
      "Enter Number: 7\n",
      "1234567\n",
      "123456\n",
      "12345\n",
      "1234\n",
      "123\n",
      "12\n",
      "1\n",
      "12\n",
      "123\n",
      "1234\n",
      "12345\n",
      "123456\n",
      "1234567\n"
     ]
    }
   ],
   "source": [
    "n = int(input('Enter Number: '))\n",
    "for row in range(2*n-1):\n",
    "    if row < n:\n",
    "        end = n - row + 1\n",
    "    else:\n",
    "        end += 1\n",
    "    for col in range(1, end):\n",
    "        print(col, end='')\n",
    "    print()"
   ]
  },
  {
   "cell_type": "markdown",
   "id": "c4fa5bee",
   "metadata": {},
   "source": [
    "## Pattern 34"
   ]
  },
  {
   "cell_type": "markdown",
   "id": "ed3e8054",
   "metadata": {},
   "source": [
    "#### User Input = 5"
   ]
  },
  {
   "cell_type": "markdown",
   "id": "b622ce71",
   "metadata": {},
   "source": [
    "<img align=left src=\"Pattern images/40.jpg\" width=\"225\" height=\"225\">"
   ]
  },
  {
   "cell_type": "code",
   "execution_count": 25,
   "id": "6ab2f923",
   "metadata": {},
   "outputs": [
    {
     "name": "stdout",
     "output_type": "stream",
     "text": [
      "Enter Number: 5\n",
      "1        1\n",
      "12      21\n",
      "123    321\n",
      "1234  4321\n",
      "1234554321\n"
     ]
    }
   ],
   "source": [
    "n = int(input('Enter Number: '))\n",
    "m = 2*n\n",
    "for row in range(n):\n",
    "    for col in range(1,row+2):\n",
    "        print(col, end='')\n",
    "    for col in range(m-2*(1+row)):\n",
    "        print(' ',end='')\n",
    "    for col in range(row+1,0,-1):\n",
    "        print(col, end='')\n",
    "    print()"
   ]
  },
  {
   "cell_type": "markdown",
   "id": "49a1c991",
   "metadata": {},
   "source": [
    "## Pattern 35"
   ]
  },
  {
   "cell_type": "markdown",
   "id": "cef1ed2f",
   "metadata": {},
   "source": [
    "#### User Input = 5"
   ]
  },
  {
   "cell_type": "markdown",
   "id": "44b81f14",
   "metadata": {},
   "source": [
    "<img align=left src=\"Pattern images/42.jpg\" width=\"225\" height=\"225\">"
   ]
  },
  {
   "cell_type": "code",
   "execution_count": 10,
   "id": "0e14753e",
   "metadata": {},
   "outputs": [
    {
     "name": "stdout",
     "output_type": "stream",
     "text": [
      "Enter Number: 7\n",
      "      1\n",
      "     121\n",
      "    12321\n",
      "   1234321\n",
      "  123454321\n",
      " 12345654321\n",
      "1234567654321\n"
     ]
    }
   ],
   "source": [
    "n = int(input('Enter Number: '))\n",
    "for row in range(1,n+1):\n",
    "    for col in range(n-row):\n",
    "        print(' ', end='')\n",
    "    for col in range(1,row):\n",
    "        print(col, end='')\n",
    "    for col in range(row,0,-1):\n",
    "        print(col, end='')\n",
    "    print()"
   ]
  },
  {
   "cell_type": "markdown",
   "id": "d60cbeff",
   "metadata": {},
   "source": [
    "## Pattern 36"
   ]
  },
  {
   "cell_type": "markdown",
   "id": "a6e08968",
   "metadata": {},
   "source": [
    "#### User Input = 4"
   ]
  },
  {
   "cell_type": "markdown",
   "id": "ee70eb6c",
   "metadata": {},
   "source": [
    "<img align=left src=\"Pattern images/41.jpg\" width=\"200\" height=\"200\">"
   ]
  },
  {
   "cell_type": "code",
   "execution_count": 36,
   "id": "253e99df",
   "metadata": {},
   "outputs": [
    {
     "name": "stdout",
     "output_type": "stream",
     "text": [
      "Enter Number: 4\n",
      "4444444\n",
      "4333334\n",
      "4322234\n",
      "4321234\n",
      "4322234\n",
      "4333334\n",
      "4444444\n"
     ]
    }
   ],
   "source": [
    "n = int(input('Enter Number: '))\n",
    "for row in range(2*n-1):\n",
    "    if row < n:\n",
    "        center_num = n - row\n",
    "        m = 2*n-1 - 2*row\n",
    "        sides = n - row + 1\n",
    "    else:\n",
    "        center_num += 1\n",
    "        m += 2\n",
    "        sides += 1\n",
    "    for col in range(n,sides-1,-1):\n",
    "        print(col, end='')\n",
    "    for col in range(m):\n",
    "        print(center_num, end='')\n",
    "    for col in range(sides,n+1):\n",
    "        print(col, end='')\n",
    "    print()"
   ]
  },
  {
   "cell_type": "markdown",
   "id": "033d101b",
   "metadata": {},
   "source": [
    "## Pattern 37"
   ]
  },
  {
   "cell_type": "markdown",
   "id": "5126bd45",
   "metadata": {},
   "source": [
    "#### User Input = 7"
   ]
  },
  {
   "cell_type": "markdown",
   "id": "85cdc0b4",
   "metadata": {},
   "source": [
    "<img align=left src=\"Pattern images/37.jpg\" width=\"200\" height=\"200\">"
   ]
  },
  {
   "cell_type": "code",
   "execution_count": 37,
   "id": "9e9c7f52",
   "metadata": {},
   "outputs": [
    {
     "name": "stdout",
     "output_type": "stream",
     "text": [
      "Enter Number: 7\n",
      "1111111\n",
      "1111122\n",
      "1111333\n",
      "1114444\n",
      "1155555\n",
      "1666666\n",
      "7777777\n"
     ]
    }
   ],
   "source": [
    "n = int(input('Enter Number: '))\n",
    "for row in range(n):\n",
    "    for col in range(n-row-1):\n",
    "        print(1, end='')\n",
    "    for col in range(row+1):\n",
    "        print(row+1, end='')\n",
    "    print()"
   ]
  },
  {
   "cell_type": "markdown",
   "id": "e7f227ed",
   "metadata": {},
   "source": [
    "## Pattern 38"
   ]
  },
  {
   "cell_type": "markdown",
   "id": "0ad9214e",
   "metadata": {},
   "source": [
    "#### User Input = 7"
   ]
  },
  {
   "cell_type": "markdown",
   "id": "d05accdc",
   "metadata": {},
   "source": [
    "<img align=left src=\"Pattern images/38.jpg\" width=\"200\" height=\"200\">"
   ]
  },
  {
   "cell_type": "code",
   "execution_count": 38,
   "id": "59810328",
   "metadata": {},
   "outputs": [
    {
     "name": "stdout",
     "output_type": "stream",
     "text": [
      "Enter Number: 7\n",
      "1234567\n",
      "2345671\n",
      "3456712\n",
      "4567123\n",
      "5671234\n",
      "6712345\n",
      "7123456\n"
     ]
    }
   ],
   "source": [
    "n = int(input('Enter Number: '))\n",
    "for row in range(n):\n",
    "    for col in range(row+1,n+1):\n",
    "        print(col, end='')\n",
    "    for col in range(1,row+1):\n",
    "        print(col, end='')\n",
    "    print()"
   ]
  },
  {
   "cell_type": "markdown",
   "id": "aaf35f78",
   "metadata": {},
   "source": [
    "## Pattern 39"
   ]
  },
  {
   "cell_type": "markdown",
   "id": "95dc0e35",
   "metadata": {},
   "source": [
    "#### User Input = 5"
   ]
  },
  {
   "cell_type": "markdown",
   "id": "78ec2903",
   "metadata": {},
   "source": [
    "<img align=left src=\"Pattern images/43.jpg\" width=\"175\" height=\"175\">"
   ]
  },
  {
   "cell_type": "code",
   "execution_count": 42,
   "id": "0a2c079f",
   "metadata": {},
   "outputs": [
    {
     "name": "stdout",
     "output_type": "stream",
     "text": [
      "Enter Number: 5\n",
      "3\n",
      "44\n",
      "555\n",
      "6666\n",
      "77777\n",
      "6666\n",
      "555\n",
      "44\n",
      "3\n"
     ]
    }
   ],
   "source": [
    "n = int(input('Enter Number: '))\n",
    "for row in range(2*n-1):\n",
    "    if row < n:\n",
    "        end = row + 1\n",
    "        num = 3 + row\n",
    "    else:\n",
    "        end -= 1\n",
    "        num -= 1\n",
    "    for col in range(end):\n",
    "        print(num, end='')\n",
    "    print()"
   ]
  },
  {
   "cell_type": "markdown",
   "id": "db804dae",
   "metadata": {},
   "source": [
    "## Pattern 40"
   ]
  },
  {
   "cell_type": "markdown",
   "id": "f5a12cca",
   "metadata": {},
   "source": [
    "#### User Input = 5 or 'E' (Max input - 26 or 'Z')"
   ]
  },
  {
   "cell_type": "markdown",
   "id": "56dc357c",
   "metadata": {},
   "source": [
    "<img align=left src=\"Pattern images/47.jpg\" width=\"200\" height=\"200\">"
   ]
  },
  {
   "cell_type": "code",
   "execution_count": 32,
   "id": "3135c8a8",
   "metadata": {},
   "outputs": [
    {
     "name": "stdout",
     "output_type": "stream",
     "text": [
      "Enter Number or Letter between A-Z: e\n",
      "A\n",
      "AB\n",
      "ABC\n",
      "ABCD\n",
      "ABCDE\n"
     ]
    }
   ],
   "source": [
    "n = input('Enter Number or Letter between A-Z: ')\n",
    "if n.isdigit():\n",
    "    n = int(n)\n",
    "else:\n",
    "    n = ord(n.upper())\n",
    "    n = n - ord('A') + 1\n",
    "for row in range(n):\n",
    "    for col in range(ord('A'),ord('A')+row+1):\n",
    "        print(chr(col), end='')\n",
    "    print()"
   ]
  },
  {
   "cell_type": "markdown",
   "id": "e7055e1d",
   "metadata": {},
   "source": [
    "## Pattern 41"
   ]
  },
  {
   "cell_type": "markdown",
   "id": "6bf685aa",
   "metadata": {},
   "source": [
    "#### User Input = 5"
   ]
  },
  {
   "cell_type": "markdown",
   "id": "99c61702",
   "metadata": {},
   "source": [
    "<img align=left src=\"Pattern images/48.jpg\" width=\"200\" height=\"200\">"
   ]
  },
  {
   "cell_type": "code",
   "execution_count": 30,
   "id": "8d9b24b3",
   "metadata": {},
   "outputs": [
    {
     "name": "stdout",
     "output_type": "stream",
     "text": [
      "Enter Number: 5\n",
      "A\n",
      "BC\n",
      "DEF\n",
      "GHIJ\n",
      "KLMNO\n"
     ]
    }
   ],
   "source": [
    "n = int(input('Enter Number: '))\n",
    "m = ord('A')\n",
    "for row in range(n):\n",
    "    m += row\n",
    "    for col in range(m, m+row+1):\n",
    "        print(chr(col), end='')\n",
    "    print()"
   ]
  },
  {
   "cell_type": "markdown",
   "id": "eb6758d0",
   "metadata": {},
   "source": [
    "## Pattern 42"
   ]
  },
  {
   "cell_type": "markdown",
   "id": "3b026854",
   "metadata": {},
   "source": [
    "#### User Input = 5 or 'I' (Character on odd positions only like 'A', 'C', 'E' etc.)"
   ]
  },
  {
   "cell_type": "markdown",
   "id": "68b2e47d",
   "metadata": {},
   "source": [
    "<img align=left src=\"Pattern images/49.jpg\" width=\"225\" height=\"225\">"
   ]
  },
  {
   "cell_type": "code",
   "execution_count": 55,
   "id": "adf8bb34",
   "metadata": {},
   "outputs": [
    {
     "name": "stdout",
     "output_type": "stream",
     "text": [
      "Enter Number: 5\n",
      "    A\n",
      "   ABC\n",
      "  ABCDE\n",
      " ABCDEFG\n",
      "ABCDEFGHI\n",
      " ABCDEFG\n",
      "  ABCDE\n",
      "   ABC\n",
      "    A\n"
     ]
    }
   ],
   "source": [
    "n = int(n) if (n:=input('Enter Number: ')).isdigit() else int((ord(n.upper())-ord('A'))/2)+1\n",
    "for row in range(2*n-1):\n",
    "    if row < n:\n",
    "        end = 2*row + 1\n",
    "        spaces = n-row-1\n",
    "    else:\n",
    "        end -= 2\n",
    "        spaces += 1\n",
    "    for col in range(spaces):\n",
    "        print(' ', end='')\n",
    "    for col in range(ord('A'),ord('A')+end):\n",
    "        print(chr(col), end='')\n",
    "    print()"
   ]
  },
  {
   "cell_type": "markdown",
   "id": "b79dfcf6",
   "metadata": {},
   "source": [
    "## Pattern 43"
   ]
  },
  {
   "cell_type": "markdown",
   "id": "a1b802fa",
   "metadata": {},
   "source": [
    "#### User Input = 5 or 'E'"
   ]
  },
  {
   "cell_type": "markdown",
   "id": "4c1b07dd",
   "metadata": {},
   "source": [
    "<img align=left src=\"Pattern images/53.jpg\" width=\"225\" height=\"225\">"
   ]
  },
  {
   "cell_type": "code",
   "execution_count": 66,
   "id": "c8cd302d",
   "metadata": {},
   "outputs": [
    {
     "name": "stdout",
     "output_type": "stream",
     "text": [
      "Enter Number: e\n",
      "    A\n",
      "   ABA\n",
      "  ABCBA\n",
      " ABCDCBA\n",
      "ABCDEDCBA\n"
     ]
    }
   ],
   "source": [
    "n = int(n) if (n:=input('Enter Number: ')).isdigit() else ord(n.upper())-ord('A')+1\n",
    "for row in range(n):\n",
    "    for col in range(n-row-1):\n",
    "        print(' ', end='')\n",
    "    for col in range(ord('A'), ord('A')+row+1):\n",
    "        print(chr(col), end='')\n",
    "    for col in range(ord('A')+row-1, ord('A')-1, -1):\n",
    "        print(chr(col), end='')\n",
    "    print()"
   ]
  },
  {
   "cell_type": "markdown",
   "id": "31d6ca2d",
   "metadata": {},
   "source": [
    "## Pattern 44"
   ]
  },
  {
   "cell_type": "markdown",
   "id": "8559fc50",
   "metadata": {},
   "source": [
    "#### User Input = 5 or 'E'"
   ]
  },
  {
   "cell_type": "markdown",
   "id": "3d9f6d8f",
   "metadata": {},
   "source": [
    "<img align=left src=\"Pattern images/52.jpg\" width=\"225\" height=\"225\">"
   ]
  },
  {
   "cell_type": "code",
   "execution_count": 62,
   "id": "312c4f5e",
   "metadata": {},
   "outputs": [
    {
     "name": "stdout",
     "output_type": "stream",
     "text": [
      "Enter Number: e\n",
      "    A\n",
      "   B B\n",
      "  C C C\n",
      " D D D D\n",
      "E E E E E\n"
     ]
    }
   ],
   "source": [
    "n = int(n) if (n:=input('Enter Number: ')).isdigit() else ord(n.upper())-ord('A')+1\n",
    "for row in range(n):\n",
    "    for col in range(n+row):\n",
    "        if col < n-row-1 or (row-col)%2!=0 and n%2!=0 or (row-col)%2==0 and n%2==0:\n",
    "            print(' ', end='')\n",
    "        else:\n",
    "            print(chr(ord('A')+row), end='')\n",
    "    print()"
   ]
  },
  {
   "cell_type": "code",
   "execution_count": 61,
   "id": "801c3c10",
   "metadata": {},
   "outputs": [
    {
     "name": "stdout",
     "output_type": "stream",
     "text": [
      "Enter Number: f\n",
      "     A \n",
      "    B B \n",
      "   C C C \n",
      "  D D D D \n",
      " E E E E E \n",
      "F F F F F F \n"
     ]
    }
   ],
   "source": [
    "# Other method\n",
    "n = int(n) if (n:=input('Enter Number: ')).isdigit() else ord(n.upper())-ord('A')+1\n",
    "for row in range(n):\n",
    "    for col in range(n-row-1):\n",
    "        print(' ', end='')\n",
    "    for col in range(row+1):\n",
    "        print(chr(ord('A')+row), end=' ')\n",
    "    print()"
   ]
  },
  {
   "cell_type": "markdown",
   "id": "342bfb85",
   "metadata": {},
   "source": [
    "##### Pattern 45"
   ]
  },
  {
   "cell_type": "markdown",
   "id": "13d2ad8f",
   "metadata": {},
   "source": [
    "#### User Input = 5 or 'E'"
   ]
  },
  {
   "cell_type": "markdown",
   "id": "d636578f",
   "metadata": {},
   "source": [
    "<img align=left src=\"Pattern images/45.jpg\" width=\"225\" height=\"225\">"
   ]
  },
  {
   "cell_type": "code",
   "execution_count": 70,
   "id": "fd780d18",
   "metadata": {},
   "outputs": [
    {
     "name": "stdout",
     "output_type": "stream",
     "text": [
      "Enter Number: f\n",
      "     A\n",
      "    A B\n",
      "   A B C\n",
      "  A B C D\n",
      " A B C D E\n",
      "A B C D E F\n"
     ]
    }
   ],
   "source": [
    "n = int(n) if (n:=input('Enter Number: ')).isdigit() else ord(n.upper())-ord('A')+1\n",
    "for row in range(n):\n",
    "    nxt = 0\n",
    "    for col in range(n+row):\n",
    "        if col < n-row-1 or (row-col)%2!=0 and n%2!=0 or (row-col)%2==0 and n%2==0:\n",
    "            print(' ', end='')\n",
    "        else:\n",
    "            print(chr(ord('A')+nxt), end='')\n",
    "            nxt += 1\n",
    "    print()"
   ]
  },
  {
   "cell_type": "code",
   "execution_count": 72,
   "id": "2837e566",
   "metadata": {},
   "outputs": [
    {
     "name": "stdout",
     "output_type": "stream",
     "text": [
      "Enter Number: e\n",
      "    A \n",
      "   A B \n",
      "  A B C \n",
      " A B C D \n",
      "A B C D E \n"
     ]
    }
   ],
   "source": [
    "# Other method\n",
    "n = int(n) if (n:=input('Enter Number: ')).isdigit() else ord(n.upper())-ord('A')+1\n",
    "for row in range(n):\n",
    "    for col in range(n-row-1):\n",
    "        print(' ', end='')\n",
    "    for col in range(row+1):\n",
    "        print(chr(ord('A')+col), end=' ')\n",
    "    print()"
   ]
  },
  {
   "cell_type": "markdown",
   "id": "1ce1c36d",
   "metadata": {},
   "source": [
    "## Pattern 46"
   ]
  },
  {
   "cell_type": "markdown",
   "id": "772a325c",
   "metadata": {},
   "source": [
    "#### User Input = 5 or 'I'"
   ]
  },
  {
   "cell_type": "markdown",
   "id": "0d9dbdb7",
   "metadata": {},
   "source": [
    "<img align=left src=\"Pattern images/51.jpg\" width=\"225\" height=\"225\">"
   ]
  },
  {
   "cell_type": "code",
   "execution_count": null,
   "id": "d2b9ced8",
   "metadata": {},
   "outputs": [],
   "source": []
  },
  {
   "cell_type": "markdown",
   "id": "ef45a3b6",
   "metadata": {},
   "source": [
    "## Pattern 47"
   ]
  },
  {
   "cell_type": "markdown",
   "id": "90046b99",
   "metadata": {},
   "source": [
    "#### User Input = 5"
   ]
  },
  {
   "cell_type": "markdown",
   "id": "db41c1f4",
   "metadata": {},
   "source": [
    "<img align=left src=\"Pattern images/50.jpg\" width=\"225\" height=\"225\">"
   ]
  },
  {
   "cell_type": "code",
   "execution_count": null,
   "id": "bf6e0064",
   "metadata": {},
   "outputs": [],
   "source": []
  },
  {
   "cell_type": "markdown",
   "id": "9351d80a",
   "metadata": {},
   "source": [
    "## Pattern 48"
   ]
  },
  {
   "cell_type": "markdown",
   "id": "13f3dc9e",
   "metadata": {},
   "source": [
    "#### User Input = 5 or 'E'"
   ]
  },
  {
   "cell_type": "markdown",
   "id": "8fd887ad",
   "metadata": {},
   "source": [
    "<img align=left src=\"Pattern images/44.jpg\" width=\"200\" height=\"200\">"
   ]
  },
  {
   "cell_type": "code",
   "execution_count": null,
   "id": "4938aac6",
   "metadata": {},
   "outputs": [],
   "source": []
  },
  {
   "cell_type": "markdown",
   "id": "676a4db3",
   "metadata": {},
   "source": [
    "## Pattern 49"
   ]
  },
  {
   "cell_type": "markdown",
   "id": "29b79438",
   "metadata": {},
   "source": [
    "#### User Input = 5"
   ]
  },
  {
   "cell_type": "markdown",
   "id": "d0ed3ebf",
   "metadata": {},
   "source": [
    "<img align=left src=\"Pattern images/46.jpg\" width=\"175\" height=\"175\">"
   ]
  },
  {
   "cell_type": "code",
   "execution_count": null,
   "id": "8b44851a",
   "metadata": {},
   "outputs": [],
   "source": []
  },
  {
   "cell_type": "markdown",
   "id": "d045a48f",
   "metadata": {},
   "source": [
    "## Pattern 50"
   ]
  },
  {
   "cell_type": "markdown",
   "id": "a3faf99e",
   "metadata": {},
   "source": [
    "#### User Input = 5"
   ]
  },
  {
   "cell_type": "markdown",
   "id": "60ba724a",
   "metadata": {},
   "source": [
    "<img align=left src=\"Pattern images/24.jpg\" width=\"250\" height=\"250\">"
   ]
  },
  {
   "cell_type": "code",
   "execution_count": null,
   "id": "8cc8995e",
   "metadata": {},
   "outputs": [],
   "source": []
  },
  {
   "cell_type": "markdown",
   "id": "60cefc4f",
   "metadata": {},
   "source": [
    "## Pattern 51"
   ]
  },
  {
   "cell_type": "markdown",
   "id": "8bb2545e",
   "metadata": {},
   "source": [
    "#### User Input = 5"
   ]
  },
  {
   "cell_type": "markdown",
   "id": "68907e3d",
   "metadata": {},
   "source": [
    "<img align=left src=\"Pattern images/23.jpg\" width=\"250\" height=\"250\">"
   ]
  },
  {
   "cell_type": "code",
   "execution_count": null,
   "id": "d8745a84",
   "metadata": {},
   "outputs": [],
   "source": []
  },
  {
   "cell_type": "markdown",
   "id": "c55519cd",
   "metadata": {},
   "source": [
    "## Pattern 52"
   ]
  },
  {
   "cell_type": "markdown",
   "id": "ad7c03b1",
   "metadata": {},
   "source": [
    "#### User Input = 5"
   ]
  },
  {
   "cell_type": "markdown",
   "id": "1f529e35",
   "metadata": {},
   "source": [
    "<img align=left src=\"Pattern images/22.jpg\" width=\"200\" height=\"175\">"
   ]
  },
  {
   "cell_type": "code",
   "execution_count": null,
   "id": "6b823f48",
   "metadata": {},
   "outputs": [],
   "source": []
  },
  {
   "cell_type": "markdown",
   "id": "ce61e4e0",
   "metadata": {},
   "source": [
    "## Pattern 53"
   ]
  },
  {
   "cell_type": "markdown",
   "id": "4dc6e62a",
   "metadata": {},
   "source": [
    "#### User Input = 5"
   ]
  },
  {
   "cell_type": "markdown",
   "id": "2efe11d8",
   "metadata": {},
   "source": [
    "<img align=left src=\"Pattern images/25.jpg\" width=\"450\" height=\"450\">"
   ]
  },
  {
   "cell_type": "code",
   "execution_count": null,
   "id": "a0c7c025",
   "metadata": {},
   "outputs": [],
   "source": []
  },
  {
   "cell_type": "markdown",
   "id": "67427c16",
   "metadata": {},
   "source": [
    "## Pattern 54"
   ]
  },
  {
   "cell_type": "markdown",
   "id": "6a028a57",
   "metadata": {},
   "source": [
    "You are given an integer, N. \n",
    "Your task is to print an alphabet rangoli of size N. \n",
    "#### N = 7"
   ]
  },
  {
   "cell_type": "markdown",
   "id": "df95ba89",
   "metadata": {},
   "source": [
    "<img align=left src=\"Pattern images/56.jpg\" width=\"450\" height=\"450\">"
   ]
  },
  {
   "cell_type": "code",
   "execution_count": null,
   "id": "e86d6137",
   "metadata": {},
   "outputs": [],
   "source": []
  },
  {
   "cell_type": "markdown",
   "id": "25902b58",
   "metadata": {},
   "source": [
    "## Pattern 55"
   ]
  },
  {
   "cell_type": "markdown",
   "id": "c035ab5d",
   "metadata": {},
   "source": [
    "Mr. Vincent works in a door mat manufacturing company. One day, he designed a new door mat with the following specifications:\n",
    "\n",
    "Mat size must be N X M. (N is an odd natural number, and M is 3 times N.)\n",
    "The design should have 'WELCOME' written in the center.\n",
    "The design pattern should only use |, . and - characters.\n",
    "\n",
    "#### N=7, M=21"
   ]
  },
  {
   "cell_type": "markdown",
   "id": "e4184d75",
   "metadata": {},
   "source": [
    "<img align=left src=\"Pattern images/55.jpg\" width=\"450\" height=\"450\">"
   ]
  },
  {
   "cell_type": "code",
   "execution_count": null,
   "id": "9d244301",
   "metadata": {},
   "outputs": [],
   "source": []
  },
  {
   "cell_type": "markdown",
   "id": "3d8d1cc7",
   "metadata": {},
   "source": [
    "## Pattern 56"
   ]
  },
  {
   "cell_type": "markdown",
   "id": "07cbfd84",
   "metadata": {},
   "source": [
    "#### User Input = 5"
   ]
  },
  {
   "cell_type": "markdown",
   "id": "80e0a33f",
   "metadata": {},
   "source": [
    "<img align=left src=\"Pattern images/57.jpg\" width=\"355\" height=\"355\">"
   ]
  },
  {
   "cell_type": "code",
   "execution_count": null,
   "id": "21e8729b",
   "metadata": {},
   "outputs": [],
   "source": []
  }
 ],
 "metadata": {
  "kernelspec": {
   "display_name": "Python 3 (ipykernel)",
   "language": "python",
   "name": "python3"
  },
  "language_info": {
   "codemirror_mode": {
    "name": "ipython",
    "version": 3
   },
   "file_extension": ".py",
   "mimetype": "text/x-python",
   "name": "python",
   "nbconvert_exporter": "python",
   "pygments_lexer": "ipython3",
   "version": "3.11.4"
  }
 },
 "nbformat": 4,
 "nbformat_minor": 5
}

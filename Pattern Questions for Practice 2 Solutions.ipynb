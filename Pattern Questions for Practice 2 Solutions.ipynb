{
 "cells": [
  {
   "cell_type": "markdown",
   "id": "23145739",
   "metadata": {},
   "source": [
    "<!DOCTYPE html>\n",
    "<html>\n",
    "<head>\n",
    "</head>\n",
    "<body>\n",
    "<h2 style=\"font-size: 20px;\">Pattern 1:</h2>\n",
    "<pre>\n",
    "<span style=\"font-size: 20px;\">\n",
    "<h2 style=\"font-size: 20px;\">User Input -> n=3, m=5</h2>\n",
    "*****      \n",
    "*****\n",
    "*****\n",
    "</span>\n",
    "</pre>\n",
    "</body>\n",
    "</html>\n"
   ]
  },
  {
   "cell_type": "code",
   "execution_count": 3,
   "id": "b7d0504c",
   "metadata": {},
   "outputs": [
    {
     "name": "stdout",
     "output_type": "stream",
     "text": [
      "Enter n: 3\n",
      "Enter m: 5\n",
      "*****\n",
      "*****\n",
      "*****\n"
     ]
    }
   ],
   "source": [
    "n = int(input('Enter n: '))\n",
    "m = int(input('Enter m: '))\n",
    "for row in range(n):\n",
    "    for col in range(m):\n",
    "        print('*', end='')\n",
    "    print()"
   ]
  },
  {
   "cell_type": "markdown",
   "id": "1c28ef81",
   "metadata": {},
   "source": [
    "<!DOCTYPE html>\n",
    "<html>\n",
    "<head>\n",
    "</head>\n",
    "<body>\n",
    "<h2 style=\"font-size: 20px;\">Pattern 2:</h2>\n",
    "<pre>\n",
    "<span style=\"font-size: 20px;\">\n",
    "<h2 style=\"font-size: 20px;\">User Input = 4</h2>\n",
    "****\n",
    " ****\n",
    "  ****\n",
    "   ****\n",
    "</span>\n",
    "</pre>\n",
    "</body>\n",
    "</html>"
   ]
  },
  {
   "cell_type": "code",
   "execution_count": 5,
   "id": "9955977d",
   "metadata": {},
   "outputs": [
    {
     "name": "stdout",
     "output_type": "stream",
     "text": [
      "Enter Number: 4\n",
      "****\n",
      " ****\n",
      "  ****\n",
      "   ****\n"
     ]
    }
   ],
   "source": [
    "n = int(input('Enter Number: '))\n",
    "for row in range(n):\n",
    "    for col in range(n+row):\n",
    "        if col<row:\n",
    "            print(' ', end='')\n",
    "        else:\n",
    "            print('*', end='')\n",
    "    print()"
   ]
  },
  {
   "cell_type": "markdown",
   "id": "dc64e667",
   "metadata": {},
   "source": [
    "<!DOCTYPE html>\n",
    "<html>\n",
    "<head>\n",
    "</head>\n",
    "<body>\n",
    "<h2 style=\"font-size: 20px;\">Pattern 3:</h2>\n",
    "<pre>\n",
    "<span style=\"font-size: 20px;\">\n",
    "<h2 style=\"font-size: 20px;\">User Input = 8</h2>\n",
    "       *\n",
    "      * *\n",
    "     * * *\n",
    "    * * * *\n",
    "   * * * * *\n",
    "  * * * * * *\n",
    " * * * * * * * \n",
    "* * * * * * * * \n",
    "</span>\n",
    "</pre>\n",
    "</body>\n",
    "</html>"
   ]
  },
  {
   "cell_type": "code",
   "execution_count": 5,
   "id": "f7fd25e2",
   "metadata": {},
   "outputs": [
    {
     "name": "stdout",
     "output_type": "stream",
     "text": [
      "Enter Number: 8\n",
      "       *\n",
      "      * *\n",
      "     * * *\n",
      "    * * * *\n",
      "   * * * * *\n",
      "  * * * * * *\n",
      " * * * * * * *\n",
      "* * * * * * * *\n"
     ]
    }
   ],
   "source": [
    "n = int(input('Enter Number: '))\n",
    "for row in range(n):\n",
    "    for col in range(n-row-1):\n",
    "        print(' ', end='')\n",
    "    for col in range(2*(row+1)-1):\n",
    "        if col%2==0:\n",
    "            print('*', end='')\n",
    "        else:\n",
    "            print(' ', end='')\n",
    "    print()"
   ]
  },
  {
   "cell_type": "markdown",
   "id": "1c59e8cc",
   "metadata": {},
   "source": [
    "<!DOCTYPE html>\n",
    "<html>\n",
    "<head>\n",
    "</head>\n",
    "<body>\n",
    "<h2 style=\"font-size: 20px;\">Pattern 4:</h2>\n",
    "<pre>\n",
    "<span style=\"font-size: 20px;\">\n",
    "<h2 style=\"font-size: 20px;\">User Input = 10</h2>\n",
    "* * * * * * * * * *\n",
    " * * * * * * * * *\n",
    "  * * * * * * * *\n",
    "   * * * * * * *\n",
    "    * * * * * *\n",
    "     * * * * *\n",
    "      * * * *\n",
    "       * * *\n",
    "        * *\n",
    "         *\n",
    "</span>\n",
    "</pre>\n",
    "</body>\n",
    "</html>"
   ]
  },
  {
   "cell_type": "code",
   "execution_count": 6,
   "id": "275cb661",
   "metadata": {},
   "outputs": [
    {
     "name": "stdout",
     "output_type": "stream",
     "text": [
      "Enter Number: 10\n",
      "* * * * * * * * * *\n",
      " * * * * * * * * *\n",
      "  * * * * * * * *\n",
      "   * * * * * * *\n",
      "    * * * * * *\n",
      "     * * * * *\n",
      "      * * * *\n",
      "       * * *\n",
      "        * *\n",
      "         *\n"
     ]
    }
   ],
   "source": [
    "n = int(input('Enter Number: '))\n",
    "for row in range(n):\n",
    "    for col in range(row):\n",
    "        print(' ', end='')\n",
    "    for col in range(2*(n-row)-1):\n",
    "        if col%2==0:\n",
    "            print('*', end='')\n",
    "        else:\n",
    "            print(' ', end='')\n",
    "    print()"
   ]
  },
  {
   "cell_type": "markdown",
   "id": "6aa798ed",
   "metadata": {},
   "source": [
    "<!DOCTYPE html>\n",
    "<html>\n",
    "<head>\n",
    "</head>\n",
    "<body>\n",
    "<h2 style=\"font-size: 20px;\">Pattern 5:</h2>\n",
    "<pre>\n",
    "<span style=\"font-size: 20px;\">\n",
    "<h2 style=\"font-size: 20px;\">User Input = 5</h2>\n",
    "    *\n",
    "   * *\n",
    "  * * *\n",
    " * * * *\n",
    "* * * * *\n",
    " * * * *\n",
    "  * * *\n",
    "   * *\n",
    "    *\n",
    "</span>\n",
    "</pre>\n",
    "</body>\n",
    "</html>"
   ]
  },
  {
   "cell_type": "code",
   "execution_count": 11,
   "id": "8f94d392",
   "metadata": {},
   "outputs": [
    {
     "name": "stdout",
     "output_type": "stream",
     "text": [
      "Enter Number: 5\n",
      "    *\n",
      "   * *\n",
      "  * * *\n",
      " * * * *\n",
      "* * * * *\n",
      " * * * *\n",
      "  * * *\n",
      "   * *\n",
      "    *\n"
     ]
    }
   ],
   "source": [
    "n = int(input('Enter Number: '))\n",
    "for row in range(2*n-1):\n",
    "    if row < n:\n",
    "        spaces = n-row-1\n",
    "        stars = 2*(row+1)-1\n",
    "    else:\n",
    "        spaces += 1\n",
    "        stars -= 2\n",
    "    for col in range(spaces):\n",
    "        print(' ', end='')\n",
    "    for col in range(stars):\n",
    "        if col%2==0:\n",
    "            print('*', end='')\n",
    "        else:\n",
    "            print(' ', end='')\n",
    "    print()"
   ]
  },
  {
   "cell_type": "markdown",
   "id": "8f5b58a4",
   "metadata": {},
   "source": [
    "<!DOCTYPE html>\n",
    "<html>\n",
    "<head>\n",
    "</head>\n",
    "<body>\n",
    "<h2 style=\"font-size: 20px;\">Pattern 6:</h2>\n",
    "<pre>\n",
    "<span style=\"font-size: 20px;\">\n",
    "<h2 style=\"font-size: 20px;\">User Input = 5</h2>\n",
    "*                       *\n",
    "   *                 *\n",
    "*     *           *     *\n",
    "   *     *     *     *\n",
    "*     *     *     *     *\n",
    "   *     *     *     *\n",
    "*     *           *     *\n",
    "   *                 *\n",
    "*                       *\n",
    "</span>\n",
    "</pre>\n",
    "</body>\n",
    "</html>"
   ]
  },
  {
   "cell_type": "code",
   "execution_count": 9,
   "id": "585ea490",
   "metadata": {},
   "outputs": [
    {
     "name": "stdout",
     "output_type": "stream",
     "text": [
      "Enter Number: 5\n",
      "*                       *\n",
      "   *                 *   \n",
      "*     *           *     *\n",
      "   *     *     *     *   \n",
      "*     *     *     *     *\n",
      "   *     *     *     *   \n",
      "*     *           *     *\n",
      "   *                 *   \n",
      "*                       *\n"
     ]
    }
   ],
   "source": [
    "n = int(input('Enter Number: '))\n",
    "\n",
    "for row in range(2*n-1):\n",
    "    if row < n:\n",
    "        left = row + 2*(row+1)-1\n",
    "        right = 5*(n-1)+n - left\n",
    "    else:\n",
    "        left -= 3\n",
    "        right += 3\n",
    "        \n",
    "    if row%2==0:\n",
    "        star = 0\n",
    "    else:\n",
    "        star = 3\n",
    "    for col in range(5*(n-1)+n):\n",
    "        if left<=col<right:\n",
    "            print(' ', end='')\n",
    "        else:\n",
    "            if col==star:\n",
    "                print('*', end='')\n",
    "                if col==left-1 and row!=n-1:\n",
    "                    star = right\n",
    "                else:\n",
    "                    star += 6\n",
    "            else:\n",
    "                print(' ', end='')\n",
    "    print()\n"
   ]
  },
  {
   "cell_type": "markdown",
   "id": "f4b23dd7",
   "metadata": {},
   "source": [
    "<!DOCTYPE html>\n",
    "<html>\n",
    "<head>\n",
    "</head>\n",
    "<body>\n",
    "<h2 style=\"font-size: 20px;\">Pattern 7:</h2>\n",
    "<pre>\n",
    "<span style=\"font-size: 20px;\">\n",
    "<h2 style=\"font-size: 20px;\">User Input = 5</h2>\n",
    "    *\n",
    "   *\n",
    "  * \n",
    " *   \n",
    "*********\n",
    " *   \n",
    "  * \n",
    "   *\n",
    "    *\n",
    "</span>\n",
    "</pre>\n",
    "</body>\n",
    "</html>"
   ]
  },
  {
   "cell_type": "code",
   "execution_count": 21,
   "id": "b3116260",
   "metadata": {},
   "outputs": [
    {
     "name": "stdout",
     "output_type": "stream",
     "text": [
      "Enter Number: 5\n",
      "    *\n",
      "   *\n",
      "  *\n",
      " *\n",
      "*********\n",
      " *\n",
      "  *\n",
      "   *\n",
      "    *\n"
     ]
    }
   ],
   "source": [
    "n = int(input('Enter Number: '))\n",
    "for row in range(2*n-1):\n",
    "    if row<n-1:\n",
    "        spaces = n-row-1\n",
    "        star = 1\n",
    "    elif row==n-1:\n",
    "        spaces -= 1\n",
    "        star = 2*n-1\n",
    "    else:\n",
    "        spaces += 1\n",
    "        star = 1\n",
    "    for col in range(spaces):\n",
    "        print(' ', end='')\n",
    "    for col in range(star):\n",
    "        print('*', end='')\n",
    "    print()"
   ]
  },
  {
   "cell_type": "markdown",
   "id": "ca0c7ca5",
   "metadata": {},
   "source": [
    "<!DOCTYPE html>\n",
    "<html>\n",
    "<head>\n",
    "</head>\n",
    "<body>\n",
    "<h2 style=\"font-size: 20px;\">Pattern 8:</h2>\n",
    "<pre>\n",
    "<span style=\"font-size: 20px;\">\n",
    "<h2 style=\"font-size: 20px;\">User Input = 5</h2>\n",
    "* \n",
    "** \n",
    "* * \n",
    "*  * \n",
    "*****\n",
    "</span>\n",
    "</pre>\n",
    "</body>\n",
    "</html>"
   ]
  },
  {
   "cell_type": "code",
   "execution_count": 26,
   "id": "b57fca8e",
   "metadata": {},
   "outputs": [
    {
     "name": "stdout",
     "output_type": "stream",
     "text": [
      "Enter Number: 5\n",
      "*\n",
      "**\n",
      "* *\n",
      "*  *\n",
      "*****\n"
     ]
    }
   ],
   "source": [
    "n = int(input('Enter Number: '))\n",
    "for row in range(n):\n",
    "    for col in range(row+1):\n",
    "        if col in [0, row] or row == n-1:\n",
    "            print('*', end='')\n",
    "        else:\n",
    "            print(' ', end='')\n",
    "    print()"
   ]
  },
  {
   "cell_type": "markdown",
   "id": "8502c37e",
   "metadata": {},
   "source": [
    "<!DOCTYPE html>\n",
    "<html>\n",
    "<head>\n",
    "</head>\n",
    "<body>\n",
    "<h2 style=\"font-size: 20px;\">Pattern 9:</h2>\n",
    "<pre>\n",
    "<span style=\"font-size: 20px;\">\n",
    "<h2 style=\"font-size: 20px;\">User Input = 5</h2>\n",
    "    *\n",
    "   **\n",
    "  ***\n",
    " ****\n",
    "*****\n",
    " ****\n",
    "  ***\n",
    "   **\n",
    "    *\n",
    "</span>\n",
    "</pre>\n",
    "</body>\n",
    "</html>"
   ]
  },
  {
   "cell_type": "code",
   "execution_count": 28,
   "id": "5bde03a4",
   "metadata": {},
   "outputs": [
    {
     "name": "stdout",
     "output_type": "stream",
     "text": [
      "Enter Number: 5\n",
      "    *\n",
      "   **\n",
      "  ***\n",
      " ****\n",
      "*****\n",
      " ****\n",
      "  ***\n",
      "   **\n",
      "    *\n"
     ]
    }
   ],
   "source": [
    "n = int(input('Enter Number: '))\n",
    "for row in range(2*n-1):\n",
    "    if row<n:\n",
    "        spaces = n-row-1\n",
    "    else:\n",
    "        spaces += 1\n",
    "    for col in range(n):\n",
    "        if col<spaces:\n",
    "            print(' ', end='')\n",
    "        else:\n",
    "            print('*', end='')\n",
    "    print()"
   ]
  },
  {
   "cell_type": "markdown",
   "id": "93d842ad",
   "metadata": {},
   "source": [
    "<!DOCTYPE html>\n",
    "<html>\n",
    "<head>\n",
    "</head>\n",
    "<body>\n",
    "<h2 style=\"font-size: 20px;\">Pattern 10:</h2>\n",
    "<pre>\n",
    "<span style=\"font-size: 20px;\">\n",
    "<h2 style=\"font-size: 20px;\">User Input = 4</h2>\n",
    "      *           \n",
    "    *   *        \n",
    "  *       *      \n",
    "*           * \n",
    "</span>\n",
    "</pre>\n",
    "</body>\n",
    "</html>"
   ]
  },
  {
   "cell_type": "code",
   "execution_count": 31,
   "id": "e7dae82b",
   "metadata": {},
   "outputs": [
    {
     "name": "stdout",
     "output_type": "stream",
     "text": [
      "Enter Number: 4\n",
      "   *\n",
      "  * *\n",
      " *   *\n",
      "*     *\n"
     ]
    }
   ],
   "source": [
    "n = int(input('Enter Number: '))\n",
    "for row in range(n):\n",
    "    for col in range(n+row):\n",
    "        if col in [n-row-1, n+row-1]:\n",
    "            print('*', end='')\n",
    "        else:\n",
    "            print(' ', end='')\n",
    "    print()"
   ]
  },
  {
   "cell_type": "markdown",
   "id": "d06111cd",
   "metadata": {},
   "source": [
    "<!DOCTYPE html>\n",
    "<html>\n",
    "<head>\n",
    "</head>\n",
    "<body>\n",
    "<h2 style=\"font-size: 20px;\">Pattern 11:</h2>\n",
    "<pre>\n",
    "<span style=\"font-size: 20px;\">\n",
    "<h2 style=\"font-size: 20px;\">User Input = 6</h2>\n",
    "          *\n",
    "         *\n",
    "        *\n",
    "       *\n",
    "      *\n",
    "     *\n",
    "    *\n",
    "   *\n",
    "  *\n",
    " *\n",
    "*\n",
    "</span>\n",
    "</pre>\n",
    "</body>\n",
    "</html>"
   ]
  },
  {
   "cell_type": "code",
   "execution_count": 39,
   "id": "5c9bcbbf",
   "metadata": {},
   "outputs": [
    {
     "name": "stdout",
     "output_type": "stream",
     "text": [
      "Enter Number: 6\n",
      "          *\n",
      "         *\n",
      "        *\n",
      "       *\n",
      "      *\n",
      "     *\n",
      "    *\n",
      "   *\n",
      "  *\n",
      " *\n",
      "*\n"
     ]
    }
   ],
   "source": [
    "n = int(input('Enter Number: '))\n",
    "for row in range(2*n-1):\n",
    "    for col in range((2*n-1)-row):\n",
    "        if col==(2*(n-1)-row):\n",
    "            print('*', end='')\n",
    "        else:\n",
    "            print(' ', end='')\n",
    "    print()"
   ]
  },
  {
   "cell_type": "markdown",
   "id": "be14eae6",
   "metadata": {},
   "source": [
    "<!DOCTYPE html>\n",
    "<html>\n",
    "<head>\n",
    "</head>\n",
    "<body>\n",
    "<h2 style=\"font-size: 20px;\">Pattern 12:</h2>\n",
    "<pre>\n",
    "<span style=\"font-size: 20px;\">\n",
    "<h2 style=\"font-size: 20px;\">User Input = 4</h2>\n",
    "*           *   \n",
    "  *       *      \n",
    "    *   *         \n",
    "      *           \n",
    "    *   *        \n",
    "  *       *      \n",
    "*           *\n",
    "</span>\n",
    "</pre>\n",
    "</body>\n",
    "</html>"
   ]
  },
  {
   "cell_type": "code",
   "execution_count": 43,
   "id": "bf4404b0",
   "metadata": {},
   "outputs": [
    {
     "name": "stdout",
     "output_type": "stream",
     "text": [
      "Enter Number: 4\n",
      "*     *\n",
      " *   * \n",
      "  * *  \n",
      "   *   \n",
      "  * *  \n",
      " *   * \n",
      "*     *\n"
     ]
    }
   ],
   "source": [
    "n = int(input('Enter Number: '))\n",
    "for row in range(2*n-1):\n",
    "    for col in range(2*n-1):\n",
    "        if col in [row, 2*(n-1)-row]:\n",
    "            print('*', end='')\n",
    "        else:\n",
    "            print(' ', end='')\n",
    "    print()"
   ]
  },
  {
   "cell_type": "markdown",
   "id": "50dc1794",
   "metadata": {},
   "source": [
    "<!DOCTYPE html>\n",
    "<html>\n",
    "<head>\n",
    "</head>\n",
    "<body>\n",
    "<h2 style=\"font-size: 20px;\">Pattern 13:</h2>\n",
    "<pre>\n",
    "<span style=\"font-size: 20px;\">\n",
    "<h2 style=\"font-size: 20px;\">User Input = 5</h2>\n",
    "*\n",
    "**\n",
    "****\n",
    "********\n",
    "****************\n",
    "</span>\n",
    "</pre>\n",
    "</body>\n",
    "</html>"
   ]
  },
  {
   "cell_type": "code",
   "execution_count": 45,
   "id": "602d3bfc",
   "metadata": {},
   "outputs": [
    {
     "name": "stdout",
     "output_type": "stream",
     "text": [
      "Enter Number: 5\n",
      "*\n",
      "**\n",
      "****\n",
      "********\n",
      "****************\n"
     ]
    }
   ],
   "source": [
    "n = int(input('Enter Number: '))\n",
    "for row in range(0, n):\n",
    "    for col in range(2**row):\n",
    "        print('*', end='')\n",
    "    print()"
   ]
  },
  {
   "cell_type": "markdown",
   "id": "0dffc54f",
   "metadata": {},
   "source": [
    "<!DOCTYPE html>\n",
    "<html>\n",
    "<head>\n",
    "</head>\n",
    "<body>\n",
    "<h2 style=\"font-size: 20px;\">Pattern 14:</h2>\n",
    "<pre>\n",
    "<span style=\"font-size: 20px;\">\n",
    "<h2 style=\"font-size: 20px;\">User Input = 4</h2>\n",
    "   ****\n",
    "  ****\n",
    " ****\n",
    "****\n",
    "</span>\n",
    "</pre>\n",
    "</body>\n",
    "</html>"
   ]
  },
  {
   "cell_type": "code",
   "execution_count": 50,
   "id": "5d0617da",
   "metadata": {},
   "outputs": [
    {
     "name": "stdout",
     "output_type": "stream",
     "text": [
      "Enter Number: 4\n",
      "   ****\n",
      "  ****\n",
      " ****\n",
      "****\n"
     ]
    }
   ],
   "source": [
    "n = int(input('Enter Number: '))\n",
    "for row in range(n):\n",
    "    for col in range(2*n-1-row):\n",
    "        if col < n-row-1:\n",
    "            print(' ', end='')\n",
    "        else:\n",
    "            print('*', end='')\n",
    "    print()"
   ]
  },
  {
   "cell_type": "markdown",
   "id": "cc09fac0",
   "metadata": {},
   "source": [
    "<!DOCTYPE html>\n",
    "<html>\n",
    "<head>\n",
    "</head>\n",
    "<body>\n",
    "<h2 style=\"font-size: 20px;\">Pattern 15:</h2>\n",
    "<pre>\n",
    "<span style=\"font-size: 20px;\">\n",
    "<h2 style=\"font-size: 20px;\">User Input = 4</h2>\n",
    "   ****\n",
    "  *  *\n",
    " *  *\n",
    "****\n",
    "</span>\n",
    "</pre>\n",
    "</body>\n",
    "</html>"
   ]
  },
  {
   "cell_type": "code",
   "execution_count": 54,
   "id": "92d695e7",
   "metadata": {},
   "outputs": [
    {
     "name": "stdout",
     "output_type": "stream",
     "text": [
      "Enter Number: 4\n",
      "   ****\n",
      "  *  *\n",
      " *  *\n",
      "****\n"
     ]
    }
   ],
   "source": [
    "n = int(input('Enter Number: '))\n",
    "for row in range(n):\n",
    "    for col in range(2*n-1-row):\n",
    "        if row in [0, n-1] and col>=n-row-1 or col in [n-row-1, 2*(n-1)-row]:\n",
    "            print('*', end='')\n",
    "        else:\n",
    "            print(' ', end='')\n",
    "    print()"
   ]
  },
  {
   "cell_type": "markdown",
   "id": "484ccec7",
   "metadata": {},
   "source": [
    "<!DOCTYPE html>\n",
    "<html>\n",
    "<head>\n",
    "</head>\n",
    "<body>\n",
    "<h2 style=\"font-size: 20px;\">Pattern 16:</h2>\n",
    "<pre>\n",
    "<span style=\"font-size: 20px;\">\n",
    "<h2 style=\"font-size: 20px;\">User Input = 4</h2>\n",
    "*           *   \n",
    "  *       *      \n",
    "    *   *         \n",
    "      *\n",
    "</span>\n",
    "</pre>\n",
    "</body>\n",
    "</html>"
   ]
  },
  {
   "cell_type": "code",
   "execution_count": 74,
   "id": "ebbcedd5",
   "metadata": {},
   "outputs": [
    {
     "name": "stdout",
     "output_type": "stream",
     "text": [
      "Enter Number: 4\n",
      "*           *\n",
      "  *       *\n",
      "    *   *\n",
      "      *\n"
     ]
    }
   ],
   "source": [
    "n = int(input('Enter Number: '))\n",
    "for row in range(n):\n",
    "    for col in range(4*n-3-2*row):\n",
    "        if col in [2*row, 4*(n-1)-2*row]:\n",
    "            print('*', end='')\n",
    "        else:\n",
    "            print(' ', end='')\n",
    "    print()"
   ]
  },
  {
   "cell_type": "markdown",
   "id": "db603811",
   "metadata": {},
   "source": [
    "<!DOCTYPE html>\n",
    "<html>\n",
    "<head>\n",
    "</head>\n",
    "<body>\n",
    "<h2 style=\"font-size: 20px;\">Pattern 17:</h2>\n",
    "<pre>\n",
    "<span style=\"font-size: 20px;\">\n",
    "<h2 style=\"font-size: 20px;\">User Input = 4</h2>\n",
    "*         *\n",
    "***     ***\n",
    "***** *****\n",
    "***********\n",
    "</span>\n",
    "</pre>\n",
    "</body>\n",
    "</html>"
   ]
  },
  {
   "cell_type": "code",
   "execution_count": 17,
   "id": "c059c3e1",
   "metadata": {},
   "outputs": [
    {
     "name": "stdout",
     "output_type": "stream",
     "text": [
      "Enter Number: 4\n",
      "*         *\n",
      "***     ***\n",
      "***** *****\n",
      "***********\n"
     ]
    }
   ],
   "source": [
    "n = int(input('Enter Number: '))\n",
    "m = 4*n-5\n",
    "for row in range(n):\n",
    "    for col in range(m):\n",
    "        if 2*row+1 <= col < m-(2*row+1):\n",
    "            print(' ', end='')\n",
    "        else:\n",
    "            print('*', end='')\n",
    "    print()"
   ]
  },
  {
   "cell_type": "markdown",
   "id": "65530e5a",
   "metadata": {},
   "source": [
    "<!DOCTYPE html>\n",
    "<html>\n",
    "<head>\n",
    "</head>\n",
    "<body>\n",
    "<h2 style=\"font-size: 20px;\">Pattern 18:</h2>\n",
    "<pre>\n",
    "<span style=\"font-size: 20px;\">\n",
    "<h2 style=\"font-size: 20px;\">User Input = 4</h2>\n",
    "*******\n",
    "*     *\n",
    "*     *\n",
    "*******\n",
    "</span>\n",
    "</pre>\n",
    "</body>\n",
    "</html>"
   ]
  },
  {
   "cell_type": "code",
   "execution_count": 22,
   "id": "23dee82f",
   "metadata": {},
   "outputs": [
    {
     "name": "stdout",
     "output_type": "stream",
     "text": [
      "Enter Number: 4\n",
      "*******\n",
      "*     *\n",
      "*     *\n",
      "*******\n"
     ]
    }
   ],
   "source": [
    "n = int(input('Enter Number: '))\n",
    "for row in range(n):\n",
    "    for col in range(2*n-1):\n",
    "        if row in [0, n-1] or col in [0, 2*(n-1)]:\n",
    "            print('*', end='')\n",
    "        else:\n",
    "            print(' ', end='')\n",
    "    print()"
   ]
  },
  {
   "cell_type": "markdown",
   "id": "5c6be28f",
   "metadata": {},
   "source": [
    "<!DOCTYPE html>\n",
    "<html>\n",
    "<head>\n",
    "</head>\n",
    "<body>\n",
    "<h2 style=\"font-size: 20px;\">Pattern 19:</h2>\n",
    "<pre>\n",
    "<span style=\"font-size: 20px;\">\n",
    "<h2 style=\"font-size: 20px;\">User Input = 8</h2>\n",
    "       *\n",
    "      * *\n",
    "     *   *\n",
    "    *     *\n",
    "   *       *\n",
    "  *         *\n",
    " *           *\n",
    "* * * * * * * *\n",
    "</span>\n",
    "</pre>\n",
    "</body>\n",
    "</html>"
   ]
  },
  {
   "cell_type": "code",
   "execution_count": 25,
   "id": "450631ba",
   "metadata": {},
   "outputs": [
    {
     "name": "stdout",
     "output_type": "stream",
     "text": [
      "Enter Number: 8\n",
      "       *       \n",
      "      * *      \n",
      "     *   *     \n",
      "    *     *    \n",
      "   *       *   \n",
      "  *         *  \n",
      " *           * \n",
      "* * * * * * * *\n"
     ]
    }
   ],
   "source": [
    "n = int(input('Enter Number: '))\n",
    "for row in range(n):\n",
    "    for col in range(2*n-1):\n",
    "        if col in [n-row-1, n+row-1] or row==n-1 and col%2==0:\n",
    "            print('*', end='')\n",
    "        else:\n",
    "            print(' ', end='')\n",
    "    print()"
   ]
  },
  {
   "cell_type": "markdown",
   "id": "2c9f9b65",
   "metadata": {},
   "source": [
    "<!DOCTYPE html>\n",
    "<html>\n",
    "<head>\n",
    "</head>\n",
    "<body>\n",
    "<h2 style=\"font-size: 20px;\">Pattern 20:</h2>\n",
    "<pre>\n",
    "<span style=\"font-size: 20px;\">\n",
    "<h2 style=\"font-size: 20px;\">User Input = 4</h2>\n",
    "*\n",
    "  * *\n",
    "    * * *\n",
    "      * * * *\n",
    "    * * *\n",
    "  * *\n",
    "*\n",
    "</span>\n",
    "</pre>\n",
    "</body>\n",
    "</html>"
   ]
  },
  {
   "cell_type": "code",
   "execution_count": 5,
   "id": "f6be855b",
   "metadata": {},
   "outputs": [
    {
     "name": "stdout",
     "output_type": "stream",
     "text": [
      "Enter Number: 4\n",
      "*\n",
      " **\n",
      "  ***\n",
      "   ****\n",
      "  ***\n",
      " **\n",
      "*\n"
     ]
    }
   ],
   "source": [
    "n = int(input('Enter Number: '))\n",
    "for row in range(2*n-1):\n",
    "    if row < n:\n",
    "        stars = 2*row+1\n",
    "        spaces = 2*row\n",
    "    else:\n",
    "        stars -= 2\n",
    "        spaces -= 1\n",
    "    for col in range(stars):\n",
    "        if col < spaces:\n",
    "            print(' ', end='')\n",
    "        else:\n",
    "            print('*', end='')\n",
    "    print()"
   ]
  },
  {
   "cell_type": "markdown",
   "id": "2211caef",
   "metadata": {},
   "source": [
    "<!DOCTYPE html>\n",
    "<html>\n",
    "<head>\n",
    "</head>\n",
    "<body>\n",
    "<h2 style=\"font-size: 20px;\">Pattern 21:</h2>\n",
    "<pre>\n",
    "<span style=\"font-size: 20px;\">\n",
    "<h2 style=\"font-size: 20px;\">User Input = 5</h2>\n",
    "    *\n",
    "     *\n",
    "      *\n",
    "       *\n",
    "*********\n",
    "       *\n",
    "      *\n",
    "     *\n",
    "    *\n",
    "</span>\n",
    "</pre>\n",
    "</body>\n",
    "</html>"
   ]
  },
  {
   "cell_type": "code",
   "execution_count": 7,
   "id": "1a98d7b9",
   "metadata": {},
   "outputs": [
    {
     "name": "stdout",
     "output_type": "stream",
     "text": [
      "Enter Number: 5\n",
      "    *\n",
      "     *\n",
      "      *\n",
      "       *\n",
      "*********\n",
      "       *\n",
      "      *\n",
      "     *\n",
      "    *\n"
     ]
    }
   ],
   "source": [
    "n = int(input('Enter Number: '))\n",
    "for row in range(2*n-1):\n",
    "    if row < n:\n",
    "        stars = n + row\n",
    "    else:\n",
    "        stars -= 1\n",
    "    for col in range(stars):\n",
    "        if col==stars-1 or row==n-1:\n",
    "            print('*', end='')\n",
    "        else:\n",
    "            print(' ', end='')\n",
    "    print()"
   ]
  },
  {
   "cell_type": "markdown",
   "id": "e9207480",
   "metadata": {},
   "source": [
    "<!DOCTYPE html>\n",
    "<html>\n",
    "<head>\n",
    "</head>\n",
    "<body>\n",
    "<h2 style=\"font-size: 20px;\">Pattern 22:</h2>\n",
    "<pre>\n",
    "<span style=\"font-size: 20px;\">\n",
    "<h2 style=\"font-size: 20px;\">User Input = 3</h2>\n",
    "  *\n",
    "  *\n",
    "*****\n",
    "  *\n",
    "  *\n",
    "</span>\n",
    "</pre>\n",
    "</body>\n",
    "</html>"
   ]
  },
  {
   "cell_type": "code",
   "execution_count": 17,
   "id": "2421d5f3",
   "metadata": {},
   "outputs": [
    {
     "name": "stdout",
     "output_type": "stream",
     "text": [
      "Enter Number: 3\n",
      "  *\n",
      "  *\n",
      "*****\n",
      "  *\n",
      "  *\n"
     ]
    }
   ],
   "source": [
    "n = int(input('Enter Number: '))\n",
    "for row in range(2*n-1):\n",
    "    if row == n-1:\n",
    "        stars = 2*n-1\n",
    "    else:\n",
    "        stars = n\n",
    "    for col in range(stars):\n",
    "        if col==stars-1 or row==n-1:\n",
    "            print('*', end='')\n",
    "        else:\n",
    "            print(' ', end='')\n",
    "    print()"
   ]
  },
  {
   "cell_type": "markdown",
   "id": "8abc169a",
   "metadata": {},
   "source": [
    "<!DOCTYPE html>\n",
    "<html>\n",
    "<head>\n",
    "</head>\n",
    "<body>\n",
    "<h2 style=\"font-size: 20px;\">Pattern 23:</h2>\n",
    "<pre>\n",
    "<span style=\"font-size: 20px;\">\n",
    "<h2 style=\"font-size: 20px;\">User Input = 4</h2>\n",
    "*   *   \n",
    "*  *      \n",
    "* *         \n",
    "**           \n",
    "* *        \n",
    "*  *      \n",
    "*   * \n",
    "</span>\n",
    "</pre>\n",
    "</body>\n",
    "</html>"
   ]
  },
  {
   "cell_type": "code",
   "execution_count": 21,
   "id": "9aa7b664",
   "metadata": {},
   "outputs": [
    {
     "name": "stdout",
     "output_type": "stream",
     "text": [
      "Enter Number: 4\n",
      "*   *\n",
      "*  *\n",
      "* *\n",
      "**\n",
      "* *\n",
      "*  *\n",
      "*   *\n"
     ]
    }
   ],
   "source": [
    "n = int(input('Enter Number: '))\n",
    "for row in range(2*n-1):\n",
    "    if row < n:\n",
    "        stars = n-row+1\n",
    "    else:\n",
    "        stars += 1\n",
    "    for col in range(stars):\n",
    "        if col in [0, stars-1]:\n",
    "            print('*', end='')\n",
    "        else:\n",
    "            print(' ', end='')\n",
    "    print()"
   ]
  },
  {
   "cell_type": "markdown",
   "id": "2671e1e3",
   "metadata": {},
   "source": [
    "<!DOCTYPE html>\n",
    "<html>\n",
    "<head>\n",
    "</head>\n",
    "<body>\n",
    "<h2 style=\"font-size: 20px;\">Pattern 24:</h2>\n",
    "<pre>\n",
    "<span style=\"font-size: 20px;\">\n",
    "<h2 style=\"font-size: 20px;\">User Input = 5</h2>\n",
    "* * * * *\n",
    "*     *\n",
    "*   *\n",
    "* *\n",
    "*\n",
    "</span>\n",
    "</pre>\n",
    "</body>\n",
    "</html>"
   ]
  },
  {
   "cell_type": "code",
   "execution_count": 6,
   "id": "e3c40606",
   "metadata": {},
   "outputs": [
    {
     "name": "stdout",
     "output_type": "stream",
     "text": [
      "Enter Number: 4\n",
      "* * * *\n",
      "*   *\n",
      "* *\n",
      "*\n"
     ]
    }
   ],
   "source": [
    "n = int(input('Enter Number: '))\n",
    "for row in range(n):\n",
    "    for col in range(2*(n-row)-1):\n",
    "        if (col in [0, 2*(n-row-1)] or row==0) and col%2==0:\n",
    "            print('*', end='')\n",
    "        else:\n",
    "            print(' ', end='')\n",
    "    print()"
   ]
  },
  {
   "cell_type": "markdown",
   "id": "d0cb2d20",
   "metadata": {},
   "source": [
    "<!DOCTYPE html>\n",
    "<html>\n",
    "<head>\n",
    "</head>\n",
    "<body>\n",
    "<h2 style=\"font-size: 20px;\">Pattern 25:</h2>\n",
    "<pre>\n",
    "<span style=\"font-size: 20px;\">\n",
    "<h2 style=\"font-size: 20px;\">User Input = 5</h2>\n",
    "1\n",
    "01\n",
    "101\n",
    "0101\n",
    "10101\n",
    "</span>\n",
    "</pre>\n",
    "</body>\n",
    "</html>"
   ]
  },
  {
   "cell_type": "code",
   "execution_count": 23,
   "id": "f5e80670",
   "metadata": {},
   "outputs": [
    {
     "name": "stdout",
     "output_type": "stream",
     "text": [
      "Enter Number: 5\n",
      "1\n",
      "10\n",
      "101\n",
      "1010\n",
      "10101\n"
     ]
    }
   ],
   "source": [
    "n = int(input('Enter Number: '))\n",
    "for row in range(n):\n",
    "    for col in range(row+1):\n",
    "        if col%2==0:\n",
    "            print('1', end='')\n",
    "        else:\n",
    "            print('0', end='')\n",
    "    print()"
   ]
  },
  {
   "cell_type": "markdown",
   "id": "3d58f6b2",
   "metadata": {},
   "source": [
    "<!DOCTYPE html>\n",
    "<html>\n",
    "<head>\n",
    "</head>\n",
    "<body>\n",
    "<h2 style=\"font-size: 20px;\">Pattern 26:</h2>\n",
    "<pre>\n",
    "<span style=\"font-size: 20px;\">\n",
    "<h2 style=\"font-size: 20px;\">User Input = 5</h2>\n",
    "1 \n",
    "2 2 \n",
    "3 3 3 \n",
    "4 4 4 4 \n",
    "5 5 5 5 5\n",
    "</span>\n",
    "</pre>\n",
    "</body>\n",
    "</html>"
   ]
  },
  {
   "cell_type": "code",
   "execution_count": 24,
   "id": "e756d855",
   "metadata": {},
   "outputs": [
    {
     "name": "stdout",
     "output_type": "stream",
     "text": [
      "Enter Number: 5\n",
      "1\n",
      "2 2\n",
      "3 3 3\n",
      "4 4 4 4\n",
      "5 5 5 5 5\n"
     ]
    }
   ],
   "source": [
    "n = int(input('Enter Number: '))\n",
    "for row in range(n):\n",
    "    for col in range(2*row+1):\n",
    "        if col%2==0:\n",
    "            print(row+1, end='')\n",
    "        else:\n",
    "            print(' ', end='')\n",
    "    print()"
   ]
  },
  {
   "cell_type": "markdown",
   "id": "52e94c70",
   "metadata": {},
   "source": [
    "<!DOCTYPE html>\n",
    "<html>\n",
    "<head>\n",
    "</head>\n",
    "<body>\n",
    "<h2 style=\"font-size: 20px;\">Pattern 27:</h2>\n",
    "<pre>\n",
    "<span style=\"font-size: 20px;\">\n",
    "<h2 style=\"font-size: 20px;\">User Input = 5</h2>\n",
    "    1\n",
    "   123\n",
    "  12345\n",
    " 1234567\n",
    "123456789\n",
    " 1234567\n",
    "  12345\n",
    "   123\n",
    "    1\n",
    "</span>\n",
    "</pre>\n",
    "</body>\n",
    "</html>"
   ]
  },
  {
   "cell_type": "code",
   "execution_count": 25,
   "id": "80fa1418",
   "metadata": {},
   "outputs": [
    {
     "name": "stdout",
     "output_type": "stream",
     "text": [
      "Enter Number: 5\n",
      "    1\n",
      "   123\n",
      "  12345\n",
      " 1234567\n",
      "123456789\n",
      " 1234567\n",
      "  12345\n",
      "   123\n",
      "    1\n"
     ]
    }
   ],
   "source": [
    "n = int(input('Enter Number: '))\n",
    "for row in range(2*n-1):\n",
    "    if row < n:\n",
    "        num = 2*row+1\n",
    "        spaces = n-row-1\n",
    "    else:\n",
    "        num -= 2\n",
    "        spaces += 1\n",
    "    for col in range(spaces):\n",
    "        print(' ', end='')\n",
    "    for col in range(1,num+1):\n",
    "        print(col, end='')\n",
    "    print()"
   ]
  },
  {
   "cell_type": "markdown",
   "id": "0bc8f946",
   "metadata": {},
   "source": [
    "<!DOCTYPE html>\n",
    "<html>\n",
    "<head>\n",
    "</head>\n",
    "<body>\n",
    "<h2 style=\"font-size: 20px;\">Pattern 28:</h2>\n",
    "<pre>\n",
    "<span style=\"font-size: 20px;\">\n",
    "<h2 style=\"font-size: 20px;\">User Input = 5</h2>\n",
    "1 \n",
    "1 2 \n",
    "1 2 3 \n",
    "1 2 3 4 \n",
    "1 2 3 4 5\n",
    "</span>\n",
    "</pre>\n",
    "</body>\n",
    "</html>"
   ]
  },
  {
   "cell_type": "code",
   "execution_count": 29,
   "id": "ccd89f9e",
   "metadata": {},
   "outputs": [
    {
     "name": "stdout",
     "output_type": "stream",
     "text": [
      "Enter Number: 5\n",
      "1\n",
      "1 2\n",
      "1 2 3\n",
      "1 2 3 4\n",
      "1 2 3 4 5\n"
     ]
    }
   ],
   "source": [
    "n = int(input('Enter Number: '))\n",
    "for row in range(n):\n",
    "    num = 1\n",
    "    for col in range(2*row+1):\n",
    "        if col%2 == 0:\n",
    "            print(num, end='')\n",
    "            num += 1\n",
    "        else:\n",
    "            print(' ', end='')\n",
    "    print()"
   ]
  },
  {
   "cell_type": "markdown",
   "id": "ba732cac",
   "metadata": {},
   "source": [
    "<!DOCTYPE html>\n",
    "<html>\n",
    "<head>\n",
    "</head>\n",
    "<body>\n",
    "<h2 style=\"font-size: 20px;\">Pattern 29:</h2>\n",
    "<pre>\n",
    "<span style=\"font-size: 20px;\">\n",
    "<h2 style=\"font-size: 20px;\">User Input = 4</h2>\n",
    "1\n",
    "3 2\n",
    "6 5 4\n",
    "10 9 8 7\n",
    "</span>\n",
    "</pre>\n",
    "</body>\n",
    "</html>"
   ]
  },
  {
   "cell_type": "code",
   "execution_count": 39,
   "id": "9c6ce0dc",
   "metadata": {},
   "outputs": [
    {
     "name": "stdout",
     "output_type": "stream",
     "text": [
      "Enter Number: 4\n",
      "1 \n",
      "3 2 \n",
      "6 5 4 \n",
      "10 9 8 7 \n"
     ]
    }
   ],
   "source": [
    "n = int(input('Enter Number: '))\n",
    "num = 0\n",
    "for row in range(n):\n",
    "    for col in range(num+row+1, num, -1):\n",
    "        print(col, end=' ')\n",
    "        num += 1\n",
    "    print()"
   ]
  },
  {
   "cell_type": "markdown",
   "id": "ab603669",
   "metadata": {},
   "source": [
    "<!DOCTYPE html>\n",
    "<html>\n",
    "<head>\n",
    "</head>\n",
    "<body>\n",
    "<h2 style=\"font-size: 20px;\">Pattern 30:</h2>\n",
    "<pre>\n",
    "<span style=\"font-size: 20px;\">\n",
    "<h2 style=\"font-size: 20px;\">User Input = 5</h2>\n",
    "12345\n",
    "1234\n",
    "123\n",
    "12\n",
    "1\n",
    "</span>\n",
    "</pre>\n",
    "</body>\n",
    "</html>"
   ]
  },
  {
   "cell_type": "code",
   "execution_count": 30,
   "id": "f8a6acec",
   "metadata": {},
   "outputs": [
    {
     "name": "stdout",
     "output_type": "stream",
     "text": [
      "Enter Number: 5\n",
      "12345\n",
      "1234\n",
      "123\n",
      "12\n",
      "1\n"
     ]
    }
   ],
   "source": [
    "n = int(input('Enter Number: '))\n",
    "for row in range(n):\n",
    "    for col in range(n-row):\n",
    "        print(col+1, end='')\n",
    "    print()"
   ]
  },
  {
   "cell_type": "markdown",
   "id": "e7ea1d9c",
   "metadata": {},
   "source": [
    "<!DOCTYPE html>\n",
    "<html>\n",
    "<head>\n",
    "</head>\n",
    "<body>\n",
    "<h2 style=\"font-size: 20px;\">Pattern 31:</h2>\n",
    "<pre>\n",
    "<span style=\"font-size: 20px;\">\n",
    "<h2 style=\"font-size: 20px;\">User Input = 5</h2>\n",
    "1\n",
    "12\n",
    "1 3\n",
    "1  4\n",
    "12345\n",
    "</span>\n",
    "</pre>\n",
    "</body>\n",
    "</html>"
   ]
  },
  {
   "cell_type": "code",
   "execution_count": 31,
   "id": "bc3e8945",
   "metadata": {},
   "outputs": [
    {
     "name": "stdout",
     "output_type": "stream",
     "text": [
      "Enter Number: 5\n",
      "1\n",
      "12\n",
      "1 3\n",
      "1  4\n",
      "12345\n"
     ]
    }
   ],
   "source": [
    "n = int(input('Enter Number: '))\n",
    "for row in range(n):\n",
    "    for col in range(row+1):\n",
    "        if col in [0, row] or row == n-1:\n",
    "            print(col+1, end='')\n",
    "        else:\n",
    "            print(' ', end='')\n",
    "    print()"
   ]
  },
  {
   "cell_type": "markdown",
   "id": "e61d2434",
   "metadata": {},
   "source": [
    "<!DOCTYPE html>\n",
    "<html>\n",
    "<head>\n",
    "</head>\n",
    "<body>\n",
    "<h2 style=\"font-size: 20px;\">Pattern 32:</h2>\n",
    "<pre>\n",
    "<span style=\"font-size: 20px;\">\n",
    "<h2 style=\"font-size: 20px;\">User Input = 5</h2>\n",
    "1 1 1 1 1 \n",
    "2 2 2 2 \n",
    "3 3 3 \n",
    "4 4 \n",
    "5\n",
    "</span>\n",
    "</pre>\n",
    "</body>\n",
    "</html>"
   ]
  },
  {
   "cell_type": "code",
   "execution_count": 36,
   "id": "68901182",
   "metadata": {},
   "outputs": [
    {
     "name": "stdout",
     "output_type": "stream",
     "text": [
      "Enter Number: 5\n",
      "1 1 1 1 1 \n",
      "2 2 2 2 \n",
      "3 3 3 \n",
      "4 4 \n",
      "5 \n"
     ]
    }
   ],
   "source": [
    "n = int(input('Enter Number: '))\n",
    "for row in range(n):\n",
    "    for col in range(2*(n-row)):\n",
    "        if col%2 == 0:\n",
    "            print(row+1, end='')\n",
    "        else:\n",
    "            print(' ', end='')\n",
    "    print()"
   ]
  },
  {
   "cell_type": "markdown",
   "id": "a7c61e55",
   "metadata": {},
   "source": [
    "<!DOCTYPE html>\n",
    "<html>\n",
    "<head>\n",
    "</head>\n",
    "<body>\n",
    "<h2 style=\"font-size: 20px;\">Pattern 33:</h2>\n",
    "<pre>\n",
    "<span style=\"font-size: 20px;\">\n",
    "<h2 style=\"font-size: 20px;\">User Input = 7</h2>\n",
    "0  \n",
    "0 1  \n",
    "0 2 4  \n",
    "0 3 6 9  \n",
    "0 4 8 12 16  \n",
    "0 5 10 15 20 25  \n",
    "0 6 12 18 24 30 36\n",
    "</span>\n",
    "</pre>\n",
    "</body>\n",
    "</html>"
   ]
  },
  {
   "cell_type": "code",
   "execution_count": 15,
   "id": "5f4bcc11",
   "metadata": {},
   "outputs": [
    {
     "name": "stdout",
     "output_type": "stream",
     "text": [
      "Enter Number: 7\n",
      "0\n",
      "0 1\n",
      "0 2 4\n",
      "0 3 6 9\n",
      "0 4 8 12 16\n",
      "0 5 10 15 20 25\n",
      "0 6 12 18 24 30 36\n"
     ]
    }
   ],
   "source": [
    "n = int(input('Enter Number: '))\n",
    "for row in range(n):\n",
    "    for col in range(2*row+1):\n",
    "        if col%2==0:\n",
    "            print(int((col*row)/2), end='')\n",
    "        else:\n",
    "            print(' ', end='')\n",
    "    print()"
   ]
  },
  {
   "cell_type": "markdown",
   "id": "924757ba",
   "metadata": {},
   "source": [
    "<!DOCTYPE html>\n",
    "<html>\n",
    "<head>\n",
    "</head>\n",
    "<body>\n",
    "<h2 style=\"font-size: 20px;\">Pattern 34:</h2>\n",
    "<pre>\n",
    "<span style=\"font-size: 20px;\">\n",
    "<h2 style=\"font-size: 20px;\">User Input = 5</h2>\n",
    "1\n",
    "1 1\n",
    "1 2 1\n",
    "1 3 3 1\n",
    "1 4 6 4 1\n",
    "</span>\n",
    "</pre>\n",
    "</body>\n",
    "</html>"
   ]
  },
  {
   "cell_type": "code",
   "execution_count": 55,
   "id": "ed0d03e3",
   "metadata": {},
   "outputs": [
    {
     "name": "stdout",
     "output_type": "stream",
     "text": [
      "Enter Number: 5\n",
      "1 \n",
      "1 1 \n",
      "1 2 1 \n",
      "1 3 3 1 \n",
      "1 4 6 4 1 \n"
     ]
    }
   ],
   "source": [
    "n = int(input('Enter Number: '))\n",
    "num = [1]\n",
    "new = [1]\n",
    "for row in range(n):\n",
    "    print(num[0], end=' ')\n",
    "    new.append(num[0])\n",
    "    \n",
    "    if row > 1:\n",
    "        for col in range(len(num)-1):\n",
    "            print(num[col]+num[col+1], end=' ')\n",
    "            new.append(num[col]+num[col+1])\n",
    "    if len(num) != 1:\n",
    "        print(num[0], end=' ')\n",
    "        new.append(num[0])\n",
    "    num = new.copy()\n",
    "    new = []\n",
    "    print()"
   ]
  },
  {
   "cell_type": "markdown",
   "id": "f41824a8",
   "metadata": {},
   "source": [
    "<!DOCTYPE html>\n",
    "<html>\n",
    "<head>\n",
    "</head>\n",
    "<body>\n",
    "<h2 style=\"font-size: 20px;\">Pattern 35:</h2>\n",
    "<pre>\n",
    "<span style=\"font-size: 20px;\">\n",
    "<h2 style=\"font-size: 20px;\">User Input = 5</h2>\n",
    "    1\n",
    "   1 2\n",
    "  1   2\n",
    " 1     2\n",
    "1       2\n",
    " 1     2\n",
    "  1   2\n",
    "   1 2\n",
    "    1\n",
    "</span>\n",
    "</pre>\n",
    "</body>\n",
    "</html>"
   ]
  },
  {
   "cell_type": "code",
   "execution_count": 23,
   "id": "4490c847",
   "metadata": {},
   "outputs": [
    {
     "name": "stdout",
     "output_type": "stream",
     "text": [
      "Enter Number: 5\n",
      "    1\n",
      "   1 2\n",
      "  1   2\n",
      " 1     2\n",
      "1       2\n",
      " 1     2\n",
      "  1   2\n",
      "   1 2\n",
      "    1\n"
     ]
    }
   ],
   "source": [
    "n = int(input('Enter Number: '))\n",
    "for row in range(2*n-1):\n",
    "    if row < n:\n",
    "        nums = 2*row+1\n",
    "        spaces = n-row-1\n",
    "    else:\n",
    "        nums -= 2\n",
    "        spaces += 1\n",
    "    for col in range(spaces):\n",
    "        print(' ', end='')\n",
    "    for col in range(nums):\n",
    "        if col==0:\n",
    "            print(1, end='')\n",
    "        elif col==nums-1:\n",
    "            print(2, end='')\n",
    "        else:\n",
    "            print(' ', end='')\n",
    "    print()"
   ]
  },
  {
   "cell_type": "markdown",
   "id": "c95bc6cc",
   "metadata": {},
   "source": [
    "<!DOCTYPE html>\n",
    "<html>\n",
    "<head>\n",
    "</head>\n",
    "<body>\n",
    "<h2 style=\"font-size: 20px;\">Pattern 36:</h2>\n",
    "<pre>\n",
    "<span style=\"font-size: 20px;\">\n",
    "<h2 style=\"font-size: 20px;\">User Input = 5</h2>\n",
    "123456789\n",
    " 1234567\n",
    "  12345\n",
    "   123\n",
    "    1\n",
    "</span>\n",
    "</pre>\n",
    "</body>\n",
    "</html>"
   ]
  },
  {
   "cell_type": "code",
   "execution_count": 30,
   "id": "7e91fe8d",
   "metadata": {},
   "outputs": [
    {
     "name": "stdout",
     "output_type": "stream",
     "text": [
      "Enter Number: 5\n",
      "123456789\n",
      " 1234567\n",
      "  12345\n",
      "   123\n",
      "    1\n"
     ]
    }
   ],
   "source": [
    "n = int(input('Enter Number: '))\n",
    "for row in range(n):\n",
    "    num = 1\n",
    "    for col in range(2*n-row-1):\n",
    "        if col < row:\n",
    "            print(' ', end='')\n",
    "        else:\n",
    "            print(num, end='')\n",
    "            num += 1\n",
    "    print()"
   ]
  },
  {
   "cell_type": "markdown",
   "id": "b4c4496e",
   "metadata": {},
   "source": [
    "<!DOCTYPE html>\n",
    "<html>\n",
    "<head>\n",
    "</head>\n",
    "<body>\n",
    "<h2 style=\"font-size: 20px;\">Pattern 37:</h2>\n",
    "<pre>\n",
    "<span style=\"font-size: 20px;\">\n",
    "<h2 style=\"font-size: 20px;\">User Input = 5</h2>\n",
    "1\n",
    "2 6\n",
    "3 7 10 \n",
    "4 8 11 13\n",
    "5 9 12 14 15\n",
    "</span>\n",
    "</pre>\n",
    "</body>\n",
    "</html>"
   ]
  },
  {
   "cell_type": "code",
   "execution_count": 12,
   "id": "fbf25474",
   "metadata": {},
   "outputs": [
    {
     "name": "stdout",
     "output_type": "stream",
     "text": [
      "Enter Number: 5\n",
      "1\n",
      "2 6\n",
      "3 7 10\n",
      "4 8 11 13\n",
      "5 9 12 14 15\n"
     ]
    }
   ],
   "source": [
    "n = int(input('Enter Number: '))\n",
    "for row in range(n):\n",
    "    num = row + 1\n",
    "    for col in range(2*row+1):\n",
    "        if col%2==0:\n",
    "            print(num, end='')\n",
    "            num += n-1-int(col/2)\n",
    "        else:\n",
    "            print(' ', end='')\n",
    "    print()"
   ]
  },
  {
   "cell_type": "markdown",
   "id": "82bb41d7",
   "metadata": {},
   "source": [
    "<!DOCTYPE html>\n",
    "<html>\n",
    "<head>\n",
    "</head>\n",
    "<body>\n",
    "<h2 style=\"font-size: 20px;\">Pattern 38:</h2>\n",
    "<pre>\n",
    "<span style=\"font-size: 20px;\">\n",
    "<h2 style=\"font-size: 20px;\">User Input = 5</h2>\n",
    "    1\n",
    "   12\n",
    "  123\n",
    " 1234\n",
    "12345\n",
    "</span>\n",
    "</pre>\n",
    "</body>\n",
    "</html>"
   ]
  },
  {
   "cell_type": "code",
   "execution_count": 17,
   "id": "1aba0051",
   "metadata": {},
   "outputs": [
    {
     "name": "stdout",
     "output_type": "stream",
     "text": [
      "Enter Number: 5\n",
      "    1\n",
      "   12\n",
      "  123\n",
      " 1234\n",
      "12345\n"
     ]
    }
   ],
   "source": [
    "n = int(input('Enter Number: '))\n",
    "for row in range(n):\n",
    "    num = 1\n",
    "    for col in range(n):\n",
    "        if col < n-row-1:\n",
    "            print(' ', end='')\n",
    "        else:\n",
    "            print(num, end='')\n",
    "            num += 1\n",
    "    print()"
   ]
  },
  {
   "cell_type": "markdown",
   "id": "0c5709ed",
   "metadata": {},
   "source": [
    "<!DOCTYPE html>\n",
    "<html>\n",
    "<head>\n",
    "</head>\n",
    "<body>\n",
    "<h2 style=\"font-size: 20px;\">Pattern 39:</h2>\n",
    "<pre>\n",
    "<span style=\"font-size: 20px;\">\n",
    "    10\n",
    "   1010\n",
    "  101010\n",
    " 10101010\n",
    "1010101010\n",
    "</span>\n",
    "</pre>\n",
    "</body>\n",
    "</html>"
   ]
  },
  {
   "cell_type": "code",
   "execution_count": 21,
   "id": "d4ccb4b4",
   "metadata": {},
   "outputs": [
    {
     "name": "stdout",
     "output_type": "stream",
     "text": [
      "Enter Number: 5\n",
      "    10\n",
      "   1010\n",
      "  101010\n",
      " 10101010\n",
      "1010101010\n"
     ]
    }
   ],
   "source": [
    "n = int(input('Enter Number: '))\n",
    "for row in range(n):\n",
    "    for col in range(n):\n",
    "        if col < n-row-1:\n",
    "            print(' ', end='')\n",
    "        else:\n",
    "            print('10', end='')\n",
    "    print()"
   ]
  },
  {
   "cell_type": "markdown",
   "id": "99d61766",
   "metadata": {},
   "source": [
    "<!DOCTYPE html>\n",
    "<html>\n",
    "<head>\n",
    "</head>\n",
    "<body>\n",
    "<h2 style=\"font-size: 20px;\">Pattern 40:</h2>\n",
    "<pre>\n",
    "<span style=\"font-size: 20px;\">\n",
    "<h2 style=\"font-size: 20px;\">User Input = 6</h2>\n",
    "     1\n",
    "    2 2\n",
    "   3 3 3\n",
    "  4 4 4 4\n",
    " 5 5 5 5 5\n",
    "6 6 6 6 6 6\n",
    " 5 5 5 5 5\n",
    "  4 4 4 4\n",
    "   3 3 3\n",
    "    2 2\n",
    "     1\n",
    "</span>\n",
    "</pre>\n",
    "</body>\n",
    "</html>"
   ]
  },
  {
   "cell_type": "code",
   "execution_count": 33,
   "id": "8d0f7e9f",
   "metadata": {},
   "outputs": [
    {
     "name": "stdout",
     "output_type": "stream",
     "text": [
      "Enter Number: 6\n",
      "     1\n",
      "    2 2\n",
      "   3 3 3\n",
      "  4 4 4 4\n",
      " 5 5 5 5 5\n",
      "6 6 6 6 6 6\n",
      " 5 5 5 5 5\n",
      "  4 4 4 4\n",
      "   3 3 3\n",
      "    2 2\n",
      "     1\n"
     ]
    }
   ],
   "source": [
    "n = int(input('Enter Number: '))\n",
    "for row in range(2*n-1):\n",
    "    if row < n:\n",
    "        middle = 2*row+1\n",
    "        left_spaces = n-row-1\n",
    "        num = row + 1\n",
    "    else:\n",
    "        middle -= 2\n",
    "        left_spaces += 1\n",
    "        num -= 1\n",
    "    for col in range(left_spaces):\n",
    "        print(' ', end='')\n",
    "    for col in range(middle):\n",
    "        if col%2!=0:\n",
    "            print(' ', end='')\n",
    "        else:\n",
    "            print(num, end='')\n",
    "    print()"
   ]
  },
  {
   "cell_type": "markdown",
   "id": "4af18a34",
   "metadata": {},
   "source": [
    "<!DOCTYPE html>\n",
    "<html>\n",
    "<head>\n",
    "</head>\n",
    "<body>\n",
    "<h2 style=\"font-size: 20px;\">Pattern 41:</h2>\n",
    "<pre>\n",
    "<span style=\"font-size: 20px;\">\n",
    "<h2 style=\"font-size: 20px;\">User Input = 5</h2>\n",
    "1 \n",
    "33 \n",
    "555 \n",
    "7777 \n",
    "99999\n",
    "</span>\n",
    "</pre>\n",
    "</body>\n",
    "</html>"
   ]
  },
  {
   "cell_type": "code",
   "execution_count": 34,
   "id": "882fbbfd",
   "metadata": {},
   "outputs": [
    {
     "name": "stdout",
     "output_type": "stream",
     "text": [
      "Enter Number: 5\n",
      "1\n",
      "33\n",
      "555\n",
      "7777\n",
      "99999\n"
     ]
    }
   ],
   "source": [
    "n = int(input('Enter Number: '))\n",
    "for row in range(n):\n",
    "    for col in range(row+1):\n",
    "        print(2*row+1, end='')\n",
    "    print()"
   ]
  },
  {
   "cell_type": "markdown",
   "id": "6e73854b",
   "metadata": {},
   "source": [
    "<!DOCTYPE html>\n",
    "<html>\n",
    "<head>\n",
    "</head>\n",
    "<body>\n",
    "<h2 style=\"font-size: 20px;\">Pattern 42:</h2>\n",
    "<pre>\n",
    "<span style=\"font-size: 20px;\">\n",
    "<h2 style=\"font-size: 20px;\">User Input = 5</h2>\n",
    "1 \n",
    "1 2 1 \n",
    "1 2 3 2 1 \n",
    "1 2 3 4 3 2 1 \n",
    "1 2 3 4 5 4 3 2 1\n",
    "</span>\n",
    "</pre>\n",
    "</body>\n",
    "</html>"
   ]
  },
  {
   "cell_type": "code",
   "execution_count": 41,
   "id": "ca3a7304",
   "metadata": {},
   "outputs": [
    {
     "name": "stdout",
     "output_type": "stream",
     "text": [
      "Enter Number: 5\n",
      "1\n",
      "1 2 1\n",
      "1 2 3 2 1\n",
      "1 2 3 4 3 2 1\n",
      "1 2 3 4 5 4 3 2 1\n"
     ]
    }
   ],
   "source": [
    "n = int(input('Enter Number: '))\n",
    "for row in range(n):\n",
    "    num = 0\n",
    "    for col in range(4*row+1):\n",
    "        if col%2!=0:\n",
    "            print(' ', end='')\n",
    "        elif col < 2*row+1:\n",
    "            num += 1\n",
    "            print(num, end='')\n",
    "        else:\n",
    "            num -= 1\n",
    "            print(num, end='')\n",
    "    print()"
   ]
  },
  {
   "cell_type": "markdown",
   "id": "da8417c5",
   "metadata": {},
   "source": [
    "<!DOCTYPE html>\n",
    "<html>\n",
    "<head>\n",
    "</head>\n",
    "<body>\n",
    "<h2 style=\"font-size: 20px;\">Pattern 43:</h2>\n",
    "<pre>\n",
    "<span style=\"font-size: 20px;\">\n",
    "<h2 style=\"font-size: 20px;\">User Input = 5</h2>\n",
    "12345\n",
    "2  5\n",
    "3 5\n",
    "45\n",
    "5\n",
    "</span>\n",
    "</pre>\n",
    "</body>\n",
    "</html>"
   ]
  },
  {
   "cell_type": "code",
   "execution_count": 46,
   "id": "2f81bc53",
   "metadata": {},
   "outputs": [
    {
     "name": "stdout",
     "output_type": "stream",
     "text": [
      "Enter Number: 5\n",
      "12345\n",
      "2  5\n",
      "3 5\n",
      "45\n",
      "5\n"
     ]
    }
   ],
   "source": [
    "n = int(input('Enter Number: '))\n",
    "for row in range(n):\n",
    "    for col in range(row+1, n+1):\n",
    "        if col in [row+1, n] or row==0:\n",
    "            print(col, end='')\n",
    "        else:\n",
    "            print(' ', end='')\n",
    "    print()"
   ]
  },
  {
   "cell_type": "markdown",
   "id": "ed6c79c9",
   "metadata": {},
   "source": [
    "<!DOCTYPE html>\n",
    "<html>\n",
    "<head>\n",
    "</head>\n",
    "<body>\n",
    "<h2 style=\"font-size: 20px;\">Pattern 44:</h2>\n",
    "<pre>\n",
    "<span style=\"font-size: 20px;\">\n",
    "<h2 style=\"font-size: 20px;\">User Input = 5</h2>\n",
    "1 \n",
    "2 3 4 \n",
    "5 6 7 8 9\n",
    "</span>\n",
    "</pre>\n",
    "</body>\n",
    "</html>"
   ]
  },
  {
   "cell_type": "code",
   "execution_count": null,
   "id": "39ba1980",
   "metadata": {},
   "outputs": [],
   "source": []
  },
  {
   "cell_type": "markdown",
   "id": "b8bd246a",
   "metadata": {},
   "source": [
    "<!DOCTYPE html>\n",
    "<html>\n",
    "<head>\n",
    "</head>\n",
    "<body>\n",
    "<h2 style=\"font-size: 20px;\">Pattern 45:</h2>\n",
    "<pre>\n",
    "<span style=\"font-size: 20px;\">\n",
    "    1\n",
    "   232\n",
    "  34543\n",
    " 4567654\n",
    "567898765\n",
    "</span>\n",
    "</pre>\n",
    "</body>\n",
    "</html>"
   ]
  },
  {
   "cell_type": "code",
   "execution_count": null,
   "id": "25a8f114",
   "metadata": {},
   "outputs": [],
   "source": []
  },
  {
   "cell_type": "markdown",
   "id": "1513171c",
   "metadata": {},
   "source": [
    "<!DOCTYPE html>\n",
    "<html>\n",
    "<head>\n",
    "</head>\n",
    "<body>\n",
    "<h2 style=\"font-size: 20px;\">Pattern 46:</h2>\n",
    "<pre>\n",
    "<span style=\"font-size: 20px;\">\n",
    "1234567\n",
    " 234567\n",
    "  34567\n",
    "   4567\n",
    "    567\n",
    "     67\n",
    "      7\n",
    "     67\n",
    "    567\n",
    "   4567\n",
    "  34567\n",
    " 234567\n",
    "1234567\n",
    "</span>\n",
    "</pre>\n",
    "</body>\n",
    "</html>"
   ]
  },
  {
   "cell_type": "code",
   "execution_count": null,
   "id": "aa025b09",
   "metadata": {},
   "outputs": [],
   "source": []
  },
  {
   "cell_type": "markdown",
   "id": "67a9532f",
   "metadata": {},
   "source": [
    "<!DOCTYPE html>\n",
    "<html>\n",
    "<head>\n",
    "</head>\n",
    "<body>\n",
    "<h2 style=\"font-size: 20px;\">Pattern 47:</h2>\n",
    "<pre>\n",
    "<span style=\"font-size: 20px;\">\n",
    "10 \n",
    "10 8 \n",
    "10 8 6 \n",
    "10 8 6 4 \n",
    "10 8 6 4 2\n",
    "</span>\n",
    "</pre>\n",
    "</body>\n",
    "</html>"
   ]
  },
  {
   "cell_type": "code",
   "execution_count": null,
   "id": "dccaa8ef",
   "metadata": {},
   "outputs": [],
   "source": []
  },
  {
   "cell_type": "markdown",
   "id": "9097a0bb",
   "metadata": {},
   "source": [
    "<!DOCTYPE html>\n",
    "<html>\n",
    "<head>\n",
    "</head>\n",
    "<body>\n",
    "<h2 style=\"font-size: 20px;\">Pattern 48:</h2>\n",
    "<pre>\n",
    "<span style=\"font-size: 20px;\">\n",
    "0 1 2 3 4 5 \n",
    "0 1 2 3 4 \n",
    "0 1 2 3 \n",
    "0 1 2 \n",
    "0 1\n",
    "0\n",
    "</span>\n",
    "</pre>\n",
    "</body>\n",
    "</html>"
   ]
  },
  {
   "cell_type": "code",
   "execution_count": null,
   "id": "62a03fb0",
   "metadata": {},
   "outputs": [],
   "source": []
  },
  {
   "cell_type": "markdown",
   "id": "96b61284",
   "metadata": {},
   "source": [
    "<!DOCTYPE html>\n",
    "<html>\n",
    "<head>\n",
    "</head>\n",
    "<body>\n",
    "<h2 style=\"font-size: 20px;\">Pattern 49:</h2>\n",
    "<pre>\n",
    "<span style=\"font-size: 20px;\">\n",
    "    A\n",
    "   B C\n",
    "  D E F\n",
    " G H I J\n",
    "K L M N O\n",
    "</span>\n",
    "</pre>\n",
    "</body>\n",
    "</html>"
   ]
  },
  {
   "cell_type": "code",
   "execution_count": null,
   "id": "fa46b9fc",
   "metadata": {},
   "outputs": [],
   "source": []
  },
  {
   "cell_type": "markdown",
   "id": "23fb03da",
   "metadata": {},
   "source": [
    "<!DOCTYPE html>\n",
    "<html>\n",
    "<head>\n",
    "</head>\n",
    "<body>\n",
    "<h2 style=\"font-size: 20px;\">Pattern 50:</h2>\n",
    "<pre>\n",
    "<span style=\"font-size: 20px;\">\n",
    "    A\n",
    "   ABC\n",
    "  ABCDE\n",
    " ABCDEFG\n",
    "ABCDEFGHI\n",
    "</span>\n",
    "</pre>\n",
    "</body>\n",
    "</html>"
   ]
  },
  {
   "cell_type": "code",
   "execution_count": null,
   "id": "7c8286c7",
   "metadata": {},
   "outputs": [],
   "source": []
  },
  {
   "cell_type": "markdown",
   "id": "8e972548",
   "metadata": {},
   "source": [
    "<!DOCTYPE html>\n",
    "<html>\n",
    "<head>\n",
    "</head>\n",
    "<body>\n",
    "<h2 style=\"font-size: 20px;\">Pattern 51:</h2>\n",
    "<pre>\n",
    "<span style=\"font-size: 20px;\">\n",
    "    A\n",
    "   A B\n",
    "  A   B\n",
    " A     B\n",
    "A       B\n",
    " A     B\n",
    "  A   B\n",
    "   A B\n",
    "    A\n",
    "</span>\n",
    "</pre>\n",
    "</body>\n",
    "</html>"
   ]
  },
  {
   "cell_type": "code",
   "execution_count": null,
   "id": "b33ed31b",
   "metadata": {},
   "outputs": [],
   "source": []
  },
  {
   "cell_type": "markdown",
   "id": "2d5ebd5c",
   "metadata": {},
   "source": [
    "<!DOCTYPE html>\n",
    "<html>\n",
    "<head>\n",
    "</head>\n",
    "<body>\n",
    "<h2 style=\"font-size: 20px;\">Pattern 52:</h2>\n",
    "<pre>\n",
    "<span style=\"font-size: 20px;\">\n",
    "A \n",
    "B B \n",
    "C C C \n",
    "D D D D \n",
    "E E E E E \n",
    "F F F F F F \n",
    "</span>\n",
    "</pre>\n",
    "</body>\n",
    "</html>"
   ]
  },
  {
   "cell_type": "code",
   "execution_count": null,
   "id": "782df51a",
   "metadata": {},
   "outputs": [],
   "source": []
  },
  {
   "cell_type": "markdown",
   "id": "e9576e4d",
   "metadata": {},
   "source": [
    "<!DOCTYPE html>\n",
    "<html>\n",
    "<head>\n",
    "</head>\n",
    "<body>\n",
    "<h2 style=\"font-size: 20px;\">Pattern 53:</h2>\n",
    "<pre>\n",
    "<span style=\"font-size: 20px;\">\n",
    "    A\n",
    "   A B\n",
    "  A B C\n",
    " A B C D\n",
    "A B C D E\n",
    " F G H I\n",
    "  J K L\n",
    "   M N\n",
    "    O\n",
    "</span>\n",
    "</pre>\n",
    "</body>\n",
    "</html>"
   ]
  },
  {
   "cell_type": "code",
   "execution_count": null,
   "id": "338a2bee",
   "metadata": {},
   "outputs": [],
   "source": []
  },
  {
   "cell_type": "markdown",
   "id": "a5cb7e42",
   "metadata": {},
   "source": [
    "<!DOCTYPE html>\n",
    "<html>\n",
    "<head>\n",
    "</head>\n",
    "<body>\n",
    "<h2 style=\"font-size: 20px;\">Pattern 54:</h2>\n",
    "<pre>\n",
    "<span style=\"font-size: 20px;\">\n",
    "A B C D E F \n",
    "A B C D E \n",
    "A B C D \n",
    "A B C \n",
    "A B \n",
    "A \n",
    "</span>\n",
    "</pre>\n",
    "</body>\n",
    "</html>"
   ]
  },
  {
   "cell_type": "code",
   "execution_count": null,
   "id": "917b6b9c",
   "metadata": {},
   "outputs": [],
   "source": []
  },
  {
   "cell_type": "markdown",
   "id": "bcd90dae",
   "metadata": {},
   "source": [
    "<!DOCTYPE html>\n",
    "<html>\n",
    "<head>\n",
    "</head>\n",
    "<body>\n",
    "<h2 style=\"font-size: 20px;\">Pattern 55:</h2>\n",
    "<pre>\n",
    "<span style=\"font-size: 20px;\">\n",
    "A\n",
    "ABA\n",
    "ABCBA\n",
    "ABCDCBA\n",
    "ABCDEDCBA\n",
    "</span>\n",
    "</pre>\n",
    "</body>\n",
    "</html>"
   ]
  },
  {
   "cell_type": "code",
   "execution_count": null,
   "id": "4ecb8e07",
   "metadata": {},
   "outputs": [],
   "source": []
  },
  {
   "cell_type": "markdown",
   "id": "cea37aa0",
   "metadata": {},
   "source": [
    "<!DOCTYPE html>\n",
    "<html>\n",
    "<head>\n",
    "</head>\n",
    "<body>\n",
    "<h2 style=\"font-size: 20px;\">Pattern 56:</h2>\n",
    "<pre>\n",
    "<span style=\"font-size: 20px;\">\n",
    "1\n",
    "2*2\n",
    "3*3*3\n",
    "4*4*4*4\n",
    "5*5*5*5*5\n",
    "4*4*4*4\n",
    "3*3*3\n",
    "2*2\n",
    "1\n",
    "</span>\n",
    "</pre>\n",
    "</body>\n",
    "</html>"
   ]
  },
  {
   "cell_type": "code",
   "execution_count": null,
   "id": "e5e6a3f3",
   "metadata": {},
   "outputs": [],
   "source": []
  },
  {
   "cell_type": "markdown",
   "id": "a1a7f7c7",
   "metadata": {},
   "source": [
    "<!DOCTYPE html>\n",
    "<html>\n",
    "<head>\n",
    "</head>\n",
    "<body>\n",
    "<h2 style=\"font-size: 20px;\">Pattern 57:</h2>\n",
    "<pre>\n",
    "<span style=\"font-size: 20px;\">\n",
    "*\n",
    "*1*\n",
    "*121*\n",
    "*12321*\n",
    "*121*\n",
    "*1*\n",
    "*\n",
    "</span>\n",
    "</pre>\n",
    "</body>\n",
    "</html>"
   ]
  },
  {
   "cell_type": "code",
   "execution_count": null,
   "id": "ae642b3d",
   "metadata": {},
   "outputs": [],
   "source": []
  },
  {
   "cell_type": "markdown",
   "id": "a1960aee",
   "metadata": {},
   "source": [
    "<!DOCTYPE html>\n",
    "<html>\n",
    "<head>\n",
    "</head>\n",
    "<body>\n",
    "<h2 style=\"font-size: 20px;\">Pattern 58:</h2>\n",
    "<pre>\n",
    "<span style=\"font-size: 20px;\">\n",
    "1\n",
    "2*3\n",
    "4*5*6\n",
    "4*5*6*7\n",
    "4*5*6\n",
    "2*3\n",
    "1\n",
    "</span>\n",
    "</pre>\n",
    "</body>\n",
    "</html>"
   ]
  },
  {
   "cell_type": "code",
   "execution_count": null,
   "id": "3b7ebab6",
   "metadata": {},
   "outputs": [],
   "source": []
  },
  {
   "cell_type": "markdown",
   "id": "1dccafaa",
   "metadata": {},
   "source": [
    "<!DOCTYPE html>\n",
    "<html>\n",
    "<head>\n",
    "</head>\n",
    "<body>\n",
    "<h2 style=\"font-size: 20px;\">Pattern 59:</h2>\n",
    "<pre>\n",
    "<span style=\"font-size: 20px;\">\n",
    "*\n",
    "--\n",
    "***\n",
    "----\n",
    "*****\n",
    "------\n",
    "*****\n",
    "----\n",
    "***\n",
    "--\n",
    "*\n",
    "</span>\n",
    "</pre>\n",
    "</body>\n",
    "</html>"
   ]
  },
  {
   "cell_type": "code",
   "execution_count": null,
   "id": "e4c11e76",
   "metadata": {},
   "outputs": [],
   "source": []
  },
  {
   "cell_type": "markdown",
   "id": "8b4ec7d1",
   "metadata": {},
   "source": [
    "<!DOCTYPE html>\n",
    "<html>\n",
    "<head>\n",
    "</head>\n",
    "<body>\n",
    "<h2 style=\"font-size: 20px;\">Pattern 60:</h2>\n",
    "<pre>\n",
    "<span style=\"font-size: 20px;\">\n",
    "         * \n",
    "        * * \n",
    "       * * * \n",
    "       * * * \n",
    "      * * * * \n",
    "     * * * * * \n",
    "    * * * * * * \n",
    "   * * * * * * * \n",
    "      * * * * \n",
    "     * * * * * \n",
    "    * * * * * * \n",
    "   * * * * * * * \n",
    "  * * * * * * * * \n",
    " * * * * * * * * * \n",
    "* * * * * * * * * * \n",
    "       * * * \n",
    "       * * * \n",
    "       * * * \n",
    "       * * * \n",
    "       * * * \n",
    "</span>\n",
    "</pre>\n",
    "</body>\n",
    "</html>"
   ]
  },
  {
   "cell_type": "code",
   "execution_count": null,
   "id": "aa42c7f8",
   "metadata": {},
   "outputs": [],
   "source": []
  }
 ],
 "metadata": {
  "kernelspec": {
   "display_name": "Python 3 (ipykernel)",
   "language": "python",
   "name": "python3"
  },
  "language_info": {
   "codemirror_mode": {
    "name": "ipython",
    "version": 3
   },
   "file_extension": ".py",
   "mimetype": "text/x-python",
   "name": "python",
   "nbconvert_exporter": "python",
   "pygments_lexer": "ipython3",
   "version": "3.11.4"
  }
 },
 "nbformat": 4,
 "nbformat_minor": 5
}
